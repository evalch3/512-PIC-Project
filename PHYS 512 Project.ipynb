{
 "cells": [
  {
   "cell_type": "code",
   "execution_count": 361,
   "id": "165a5bab",
   "metadata": {
    "scrolled": true
   },
   "outputs": [
    {
     "name": "stdout",
     "output_type": "stream",
     "text": [
      "Using matplotlib backend: QtAgg\n",
      "Using matplotlib backend: QtAgg\n",
      "Using matplotlib backend: QtAgg\n",
      "Using matplotlib backend: QtAgg\n",
      "Using matplotlib backend: QtAgg\n",
      "Using matplotlib backend: QtAgg\n",
      "Using matplotlib backend: QtAgg\n",
      "Using matplotlib backend: QtAgg\n",
      "Using matplotlib backend: QtAgg\n",
      "Using matplotlib backend: QtAgg\n",
      "Using matplotlib backend: QtAgg\n",
      "Using matplotlib backend: QtAgg\n",
      "Using matplotlib backend: QtAgg\n",
      "Using matplotlib backend: QtAgg\n",
      "Using matplotlib backend: QtAgg\n",
      "Using matplotlib backend: QtAgg\n",
      "Using matplotlib backend: QtAgg\n",
      "Using matplotlib backend: QtAgg\n",
      "Using matplotlib backend: QtAgg\n",
      "Using matplotlib backend: QtAgg\n",
      "Using matplotlib backend: QtAgg\n",
      "Using matplotlib backend: QtAgg\n",
      "Using matplotlib backend: QtAgg\n",
      "Using matplotlib backend: QtAgg\n",
      "Using matplotlib backend: QtAgg\n",
      "Using matplotlib backend: QtAgg\n",
      "Using matplotlib backend: QtAgg\n",
      "Using matplotlib backend: QtAgg\n",
      "Using matplotlib backend: QtAgg\n",
      "Using matplotlib backend: QtAgg\n",
      "Using matplotlib backend: QtAgg\n",
      "Using matplotlib backend: QtAgg\n",
      "Using matplotlib backend: QtAgg\n",
      "Using matplotlib backend: QtAgg\n",
      "Using matplotlib backend: QtAgg\n",
      "Using matplotlib backend: QtAgg\n",
      "Using matplotlib backend: QtAgg\n",
      "Using matplotlib backend: QtAgg\n",
      "Using matplotlib backend: QtAgg\n",
      "Using matplotlib backend: QtAgg\n",
      "Using matplotlib backend: QtAgg\n",
      "Using matplotlib backend: QtAgg\n",
      "Using matplotlib backend: QtAgg\n",
      "Using matplotlib backend: QtAgg\n",
      "Using matplotlib backend: QtAgg\n",
      "Using matplotlib backend: QtAgg\n",
      "Using matplotlib backend: QtAgg\n",
      "Using matplotlib backend: QtAgg\n",
      "Using matplotlib backend: QtAgg\n",
      "Using matplotlib backend: QtAgg\n",
      "Using matplotlib backend: QtAgg\n",
      "Using matplotlib backend: QtAgg\n",
      "Using matplotlib backend: QtAgg\n",
      "Using matplotlib backend: QtAgg\n",
      "Using matplotlib backend: QtAgg\n",
      "Using matplotlib backend: QtAgg\n",
      "Using matplotlib backend: QtAgg\n",
      "Using matplotlib backend: QtAgg\n",
      "Using matplotlib backend: QtAgg\n",
      "Using matplotlib backend: QtAgg\n",
      "Using matplotlib backend: QtAgg\n",
      "Using matplotlib backend: QtAgg\n",
      "Using matplotlib backend: QtAgg\n",
      "Using matplotlib backend: QtAgg\n",
      "Using matplotlib backend: QtAgg\n",
      "Using matplotlib backend: QtAgg\n",
      "Using matplotlib backend: QtAgg\n",
      "Using matplotlib backend: QtAgg\n",
      "Using matplotlib backend: QtAgg\n",
      "Using matplotlib backend: QtAgg\n",
      "Using matplotlib backend: QtAgg\n",
      "Using matplotlib backend: QtAgg\n",
      "Using matplotlib backend: QtAgg\n",
      "Using matplotlib backend: QtAgg\n",
      "Using matplotlib backend: QtAgg\n",
      "Using matplotlib backend: QtAgg\n",
      "Using matplotlib backend: QtAgg\n",
      "Using matplotlib backend: QtAgg\n",
      "Using matplotlib backend: QtAgg\n",
      "Using matplotlib backend: QtAgg\n",
      "Using matplotlib backend: QtAgg\n",
      "Using matplotlib backend: QtAgg\n",
      "Using matplotlib backend: QtAgg\n",
      "Using matplotlib backend: QtAgg\n",
      "Using matplotlib backend: QtAgg\n",
      "Using matplotlib backend: QtAgg\n",
      "Using matplotlib backend: QtAgg\n",
      "Using matplotlib backend: QtAgg\n",
      "Using matplotlib backend: QtAgg\n",
      "Using matplotlib backend: QtAgg\n",
      "Using matplotlib backend: QtAgg\n",
      "Using matplotlib backend: QtAgg\n",
      "Using matplotlib backend: QtAgg\n",
      "Using matplotlib backend: QtAgg\n",
      "Using matplotlib backend: QtAgg\n",
      "Using matplotlib backend: QtAgg\n",
      "Using matplotlib backend: QtAgg\n",
      "Using matplotlib backend: QtAgg\n",
      "Using matplotlib backend: QtAgg\n",
      "Using matplotlib backend: QtAgg\n",
      "Using matplotlib backend: QtAgg\n",
      "Using matplotlib backend: QtAgg\n",
      "Using matplotlib backend: QtAgg\n",
      "Using matplotlib backend: QtAgg\n",
      "Using matplotlib backend: QtAgg\n",
      "Using matplotlib backend: QtAgg\n",
      "Using matplotlib backend: QtAgg\n",
      "Using matplotlib backend: QtAgg\n",
      "Using matplotlib backend: QtAgg\n",
      "Using matplotlib backend: QtAgg\n",
      "Using matplotlib backend: QtAgg\n",
      "Using matplotlib backend: QtAgg\n",
      "Using matplotlib backend: QtAgg\n",
      "Using matplotlib backend: QtAgg\n",
      "Using matplotlib backend: QtAgg\n",
      "Using matplotlib backend: QtAgg\n",
      "Using matplotlib backend: QtAgg\n",
      "Using matplotlib backend: QtAgg\n",
      "Using matplotlib backend: QtAgg\n",
      "Using matplotlib backend: QtAgg\n",
      "Using matplotlib backend: QtAgg\n",
      "Using matplotlib backend: QtAgg\n",
      "Using matplotlib backend: QtAgg\n",
      "Using matplotlib backend: QtAgg\n",
      "Using matplotlib backend: QtAgg\n",
      "Using matplotlib backend: QtAgg\n",
      "Using matplotlib backend: QtAgg\n",
      "Using matplotlib backend: QtAgg\n",
      "Using matplotlib backend: QtAgg\n",
      "Using matplotlib backend: QtAgg\n",
      "Using matplotlib backend: QtAgg\n",
      "Using matplotlib backend: QtAgg\n",
      "Using matplotlib backend: QtAgg\n",
      "Using matplotlib backend: QtAgg\n",
      "Using matplotlib backend: QtAgg\n",
      "Using matplotlib backend: QtAgg\n",
      "Using matplotlib backend: QtAgg\n",
      "Using matplotlib backend: QtAgg\n",
      "Using matplotlib backend: QtAgg\n",
      "Using matplotlib backend: QtAgg\n",
      "Using matplotlib backend: QtAgg\n",
      "Using matplotlib backend: QtAgg\n",
      "Using matplotlib backend: QtAgg\n",
      "Using matplotlib backend: QtAgg\n",
      "Using matplotlib backend: QtAgg\n",
      "Using matplotlib backend: QtAgg\n",
      "Using matplotlib backend: QtAgg\n",
      "Using matplotlib backend: QtAgg\n",
      "Using matplotlib backend: QtAgg\n",
      "Using matplotlib backend: QtAgg\n",
      "Using matplotlib backend: QtAgg\n",
      "Using matplotlib backend: QtAgg\n",
      "Using matplotlib backend: QtAgg\n",
      "Using matplotlib backend: QtAgg\n",
      "Using matplotlib backend: QtAgg\n",
      "Using matplotlib backend: QtAgg\n",
      "Using matplotlib backend: QtAgg\n",
      "Using matplotlib backend: QtAgg\n",
      "Using matplotlib backend: QtAgg\n",
      "Using matplotlib backend: QtAgg\n",
      "Using matplotlib backend: QtAgg\n",
      "Using matplotlib backend: QtAgg\n",
      "Using matplotlib backend: QtAgg\n",
      "Using matplotlib backend: QtAgg\n",
      "Using matplotlib backend: QtAgg\n",
      "Using matplotlib backend: QtAgg\n",
      "Using matplotlib backend: QtAgg\n",
      "Using matplotlib backend: QtAgg\n",
      "Using matplotlib backend: QtAgg\n",
      "Using matplotlib backend: QtAgg\n",
      "Using matplotlib backend: QtAgg\n",
      "Using matplotlib backend: QtAgg\n",
      "Using matplotlib backend: QtAgg\n",
      "Using matplotlib backend: QtAgg\n",
      "Using matplotlib backend: QtAgg\n",
      "Using matplotlib backend: QtAgg\n",
      "Using matplotlib backend: QtAgg\n",
      "Using matplotlib backend: QtAgg\n",
      "Using matplotlib backend: QtAgg\n",
      "Using matplotlib backend: QtAgg\n",
      "Using matplotlib backend: QtAgg\n",
      "Using matplotlib backend: QtAgg\n",
      "Using matplotlib backend: QtAgg\n",
      "Using matplotlib backend: QtAgg\n",
      "Using matplotlib backend: QtAgg\n",
      "Using matplotlib backend: QtAgg\n",
      "Using matplotlib backend: QtAgg\n",
      "Using matplotlib backend: QtAgg\n",
      "Using matplotlib backend: QtAgg\n",
      "Using matplotlib backend: QtAgg\n",
      "Using matplotlib backend: QtAgg\n",
      "Using matplotlib backend: QtAgg\n",
      "Using matplotlib backend: QtAgg\n",
      "Using matplotlib backend: QtAgg\n",
      "Using matplotlib backend: QtAgg\n",
      "Using matplotlib backend: QtAgg\n",
      "Using matplotlib backend: QtAgg\n",
      "Using matplotlib backend: QtAgg\n",
      "Using matplotlib backend: QtAgg\n",
      "Using matplotlib backend: QtAgg\n"
     ]
    }
   ],
   "source": [
    "import numpy as np\n",
    "import matplotlib.pyplot as plt\n",
    "import scipy.sparse as sp\n",
    "from scipy.sparse.linalg import spsolve\n",
    "\n",
    "\"\"\"\n",
    "Create Your Own Plasma PIC Simulation (With Python)\n",
    "Philip Mocz (2020) Princeton Univeristy, @PMocz\n",
    "\n",
    "Simulate the 1D Two-Stream Instability\n",
    "Code calculates the motions of electron under the Poisson-Maxwell equation\n",
    "using the Particle-In-Cell (PIC) method\n",
    "\n",
    "\"\"\"\n",
    "\n",
    "\n",
    "def getAcc( pos, Nx, boxsize, n0, Gmtx, Lmtx ):\n",
    "\t\"\"\"\n",
    "    Calculate the acceleration on each particle due to electric field\n",
    "\tpos      is an Nx1 matrix of particle positions\n",
    "\tNx       is the number of mesh cells\n",
    "\tboxsize  is the domain [0,boxsize]\n",
    "\tn0       is the electron number density\n",
    "\tGmtx     is an Nx x Nx matrix for calculating the gradient on the grid\n",
    "\tLmtx     is an Nx x Nx matrix for calculating the laplacian on the grid\n",
    "\ta        is an Nx1 matrix of accelerations\n",
    "\t\"\"\"\n",
    "\t# Calculate Electron Number Density on the Mesh by \n",
    "\t# placing particles into the 2 nearest bins (j & j+1, with proper weights)\n",
    "\t# and normalizing\n",
    "\tN          = pos.shape[0]\n",
    "\tdx         = boxsize / Nx\n",
    "\tj          = np.floor(pos/dx).astype(int)\n",
    "\tjp1        = j+1\n",
    "\tweight_j   = ( jp1*dx - pos  )/dx\n",
    "\tweight_jp1 = ( pos    - j*dx )/dx\n",
    "\tjp1        = np.mod(jp1, Nx)   # periodic BC\n",
    "\tn  = np.bincount(j[:,0],   weights=weight_j[:,0],   minlength=Nx);\n",
    "\tn += np.bincount(jp1[:,0], weights=weight_jp1[:,0], minlength=Nx);\n",
    "\tn *= n0 * boxsize / N / dx \n",
    "\t\n",
    "\t# Solve Poisson's Equation: laplacian(phi) = n-n0\n",
    "\tphi_grid = spsolve(Lmtx, n-n0, permc_spec=\"MMD_AT_PLUS_A\")\n",
    "\t\n",
    "\t# Apply Derivative to get the Electric field\n",
    "\tE_grid = - Gmtx @ phi_grid\n",
    "\t\n",
    "\t# Interpolate grid value onto particle locations\n",
    "\tE = weight_j * E_grid[j] + weight_jp1 * E_grid[jp1]\n",
    "\t\n",
    "\ta = -E\n",
    "\n",
    "\treturn a\n",
    "\t\n",
    "\n",
    "\n",
    "def main():\n",
    "\t\"\"\" Plasma PIC simulation \"\"\"\n",
    "\t\n",
    "\t# Simulation parameters\n",
    "\tN         = 40000   # Number of particles\n",
    "\tNx        = 400     # Number of mesh cells\n",
    "\tt         = 0       # current time of the simulation\n",
    "\ttEnd      = 200      # time at which simulation ends\n",
    "\tdt        = 1       # timestep\n",
    "\tboxsize   = 50      # periodic domain [0,boxsize]\n",
    "\tn0        = 1       # electron number density\n",
    "\tvb        = 3       # beam velocity\n",
    "\tvth       = 1       # beam width\n",
    "\tA         = 0.1     # perturbation\n",
    "\tplotRealTime = True # switch on for plotting as the simulation goes along\n",
    "\t\n",
    "\t# Generate Initial Conditions\n",
    "\tnp.random.seed(42)            # set the random number generator seed\n",
    "\t# construct 2 opposite-moving Guassian beams\n",
    "\tpos  = np.random.rand(N,1) * boxsize  \n",
    "\tvel  = vth * np.random.randn(N,1) + vb\n",
    "\tNh = int(N/2)\n",
    "\tvel[Nh:] *= -1\n",
    "\t# add perturbation\n",
    "\tvel *= (1 + A*np.sin(2*np.pi*pos/boxsize))\n",
    "\t\n",
    "\t# Construct matrix G to computer Gradient  (1st derivative)\n",
    "\tdx = boxsize/Nx\n",
    "\te = np.ones(Nx)\n",
    "\tdiags = np.array([-1,1])\n",
    "\tvals  = np.vstack((-e,e))\n",
    "\tGmtx = sp.spdiags(vals, diags, Nx, Nx);\n",
    "\tGmtx = sp.lil_matrix(Gmtx)\n",
    "\tGmtx[0,Nx-1] = -1\n",
    "\tGmtx[Nx-1,0] = 1\n",
    "\tGmtx /= (2*dx)\n",
    "\tGmtx = sp.csr_matrix(Gmtx)\n",
    "\n",
    "\t# Construct matrix L to computer Laplacian (2nd derivative)\n",
    "\tdiags = np.array([-1,0,1])\n",
    "\tvals  = np.vstack((e,-2*e,e))\n",
    "\tLmtx = sp.spdiags(vals, diags, Nx, Nx);\n",
    "\tLmtx = sp.lil_matrix(Lmtx)\n",
    "\tLmtx[0,Nx-1] = 1\n",
    "\tLmtx[Nx-1,0] = 1\n",
    "\tLmtx /= dx**2\n",
    "\tLmtx = sp.csr_matrix(Lmtx)\n",
    "\t\n",
    "\t# calculate initial gravitational accelerations\n",
    "\tacc = getAcc( pos, Nx, boxsize, n0, Gmtx, Lmtx )\n",
    "\t\n",
    "\t# number of timesteps\n",
    "\tNt = int(np.ceil(tEnd/dt))\n",
    "\t\n",
    "\t# prep figure\n",
    "\tfig = plt.figure(figsize=(5,4), dpi=80)\n",
    "\t\n",
    "\t# Simulation Main Loop\n",
    "\tfor i in range(Nt):\n",
    "\t\t# (1/2) kick\n",
    "\t\tvel += acc * dt/2.0\n",
    "\t\t\n",
    "\t\t# drift (and apply periodic boundary conditions)\n",
    "\t\tpos += vel * dt\n",
    "\t\tpos = np.mod(pos, boxsize)\n",
    "\t\t\n",
    "\t\t# update accelerations\n",
    "\t\tacc = getAcc( pos, Nx, boxsize, n0, Gmtx, Lmtx )\n",
    "\t\t\n",
    "\t\t# (1/2) kick\n",
    "\t\tvel += acc * dt/2.0\n",
    "\t\t\n",
    "\t\t# update time\n",
    "\t\tt += dt\n",
    "\t\t%matplotlib\n",
    "\t\t# plot in real time - color 1/2 particles blue, other half red\n",
    "\t\tif plotRealTime or (i == Nt-1):\n",
    "\t\t\tplt.cla()\n",
    "\t\t\tplt.scatter(pos[0:Nh],vel[0:Nh],s=.4,color='blue', alpha=0.5)\n",
    "\t\t\tplt.scatter(pos[Nh:], vel[Nh:], s=.4,color='red',  alpha=0.5)\n",
    "\t\t\tplt.axis([0,boxsize,-6,6])\n",
    "\t\t\t\n",
    "\t\t\tplt.pause(0.001)\n",
    "\t\t\t\n",
    "\t\n",
    "\t# Save figure\n",
    "\tplt.xlabel('x')\n",
    "\tplt.ylabel('v')\n",
    "\t#plt.savefig('pic.png',dpi=240)\n",
    "\tplt.show()\n",
    "\t    \n",
    "\treturn 0\n",
    "\t\n",
    "\n",
    "\n",
    "if __name__== \"__main__\":\n",
    "  main()"
   ]
  },
  {
   "cell_type": "code",
   "execution_count": 13,
   "id": "6de855d2",
   "metadata": {},
   "outputs": [],
   "source": [
    "import numpy as np\n",
    "import matplotlib.pyplot as plt\n",
    "import scipy.stats as st\n",
    "from tqdm import tqdm\n",
    "\n",
    "\n",
    "#function which calculates electric potential from charge density using FFT\n",
    "def phi_compute(rho,eps0,Nx,Ny,dx,dy):\n",
    "    kx = 2*np.pi*np.fft.fftfreq(Nx, d=dx)\n",
    "    ky = 2*np.pi*np.fft.fftfreq(Ny, d=dy)\n",
    "    \n",
    "    #calculate fft of charge density\n",
    "    rhok = np.fft.fft2(rho)\n",
    "    phik = np.zeros((Nx,Ny), dtype = np.complex_)\n",
    "    \n",
    "    #calculate fourier transform of electric potential\n",
    "    for i in range(Nx):\n",
    "        for j in range(Ny):\n",
    "            if kx[i] == 0 and ky[j] == 0:\n",
    "                phik[i,j] = 0\n",
    "            else:\n",
    "                phik[i,j] = -rhok[i,j]/(kx[i]**2 + ky[j]**2)\n",
    "                \n",
    "    phik = 1 / eps0 * phik\n",
    "    phi = np.real(np.fft.ifft2(phik))\n",
    "    return phi\n",
    "\n",
    "#function which interatively calculates electric potential from charge density using finite differencing\n",
    "def phi_solve(f, rho, h, stepper, atol=1.E-6, max_steps=10**5):\n",
    "    for _ in range(max_steps):\n",
    "        f_new = stepper(f, rho, h)\n",
    "        if np.max(np.abs(f_new - f)) < atol:\n",
    "            return f_new\n",
    "        f = f_new\n",
    "    return f\n",
    "\n",
    "#function which performs one finite difference step\n",
    "def roll_step(f, rho, h):\n",
    "    f_new = 0.25 * (np.roll(f, 1, axis = 0) + np.roll(f, -1, axis = 0) + np.roll(f, 1, axis = 1) + np.roll(f, -1, axis = 1)) - 0.25 * h**2 * rho\n",
    "    return f_new\n",
    "    \n",
    "#function which calculates acceleration of each particle \n",
    "def getAccel(pos,Nx,Ny,Lx,Ly,dt,n0,N):\n",
    "    eps0 = 1\n",
    "    dx = Lx/Nx\n",
    "    dy = Ly/Ny\n",
    "    j = np.zeros((N,2))\n",
    "    jp1 = np.zeros((N,2))\n",
    "    \n",
    "    #define grid points\n",
    "    j[:,0] = np.floor(pos[:,0]/dx).astype(int)\n",
    "    j[:,1] = np.floor(pos[:,1]/dy).astype(int)\n",
    "    jp1 = j + 1\n",
    "    \n",
    "    #calculate weights of particle on each grid point\n",
    "    weight_jxjy = (jp1[:,0]*dx - pos[:,0])/dx * (jp1[:,1]*dy - pos[:,1])/dy\n",
    "    weight_jxp1jy = (pos[:,0] - j[:,0]*dx)/dx * (jp1[:,1]*dy - pos[:,1])/dy\n",
    "    weight_jxjyp1 = (jp1[:,0]*dx - pos[:,0])/dx * (pos[:,1] - j[:,1]*dy)/dy\n",
    "    weight_jxp1jyp1 = (pos[:,0] - j[:,0]*dx)/dx * (pos[:,1] - j[:,1]*dy)/dy\n",
    "    \n",
    "    #periodic boundary conditions:\n",
    "    jp1[:,0] = np.mod(jp1[:,0], Nx)\n",
    "    jp1[:,1] = np.mod(jp1[:,1], Ny)\n",
    "    \n",
    "    #smear the particle position across four nearest gridpoints, weighting by distance to each gridpoint \n",
    "    xbin = np.linspace(0, Nx, Nx+1)\n",
    "    ybin = np.linspace(0, Ny, Ny+1)\n",
    "    \n",
    "    #count number of particles smeared to each grid point\n",
    "    n = st.binned_statistic_2d(j[:,0], j[:,1], None, 'count', bins = [xbin,ybin], expand_binnumbers=True).statistic #(j,j) grid point\n",
    "    n += st.binned_statistic_2d(jp1[:,0], jp1[:,1], None, 'count', bins = [xbin,ybin], expand_binnumbers=True).statistic #(j+1,j+1) grid point\n",
    "    n += st.binned_statistic_2d(j[:,0], jp1[:,1], None, 'count', bins = [xbin,ybin], expand_binnumbers=True).statistic #(j,j+1) grid point\n",
    "    n += st.binned_statistic_2d(jp1[:,0], j[:,1], None, 'count', bins = [xbin,ybin], expand_binnumbers=True).statistic #(j+1,j) grid point\n",
    "    \n",
    "    #weight the contribution  of each particle to each grid point it has been smeared across\n",
    "    n[j[:,0].astype(int),j[:,1].astype(int)] *= weight_jxjy\n",
    "    n[jp1[:,0].astype(int),j[:,1].astype(int)] *= weight_jxp1jy\n",
    "    n[j[:,0].astype(int),jp1[:,1].astype(int)] *= weight_jxjyp1\n",
    "    n[jp1[:,0].astype(int),jp1[:,1].astype(int)] *= weight_jxp1jyp1\n",
    "    #n *= n0 * Lx*Ly / N /(dx*dy)\n",
    "    rho = n0*n\n",
    "\n",
    "    #calculate electric potential at each grid point\n",
    "    phi_grid = phi_compute(rho,eps0,Nx,Ny,dx,dy)\n",
    "    \n",
    "    #calculate electric field from electric potential\n",
    "    Ex = -np.gradient(phi_grid, dx, axis = 0)\n",
    "    Ey = -np.gradient(phi_grid, dy, axis = 1)\n",
    "    E = np.zeros((N,2))\n",
    "    j = j.astype(int)\n",
    "    jp1 = jp1.astype(int)\n",
    "    \n",
    "    #interpolate electric field at each particle position\n",
    "    E[:,0] = Ex[j[:,0],j[:,1]]*weight_jxjy + Ex[j[:,0],jp1[:,1]]*weight_jxjyp1 + Ex[jp1[:,0],j[:,1]]*weight_jxp1jy + Ex[jp1[:,0],jp1[:,1]]*weight_jxp1jyp1\n",
    "    E[:,1] = Ey[j[:,0],j[:,1]]*weight_jxjy + Ey[j[:,0],jp1[:,1]]*weight_jxjyp1 + Ey[jp1[:,0],j[:,1]]*weight_jxp1jy + Ey[jp1[:,0],jp1[:,1]]*weight_jxp1jyp1\n",
    "    a = -E\n",
    "    \n",
    "    return a\n",
    "\n",
    "    \n",
    "    \n",
    "    \n",
    "    "
   ]
  },
  {
   "cell_type": "code",
   "execution_count": 31,
   "id": "648bc407",
   "metadata": {},
   "outputs": [],
   "source": [
    "def main():\n",
    "    N = 4*10**4\n",
    "    Nx = 128\n",
    "    Ny = 128\n",
    "    Lx = 10\n",
    "    Ly = 10\n",
    "    dx = Lx/Nx\n",
    "    dy = Ly/Ny\n",
    "    t = 0\n",
    "    tEnd = 10\n",
    "    dt = 0.1\n",
    "    n0 = 100\n",
    "    vb        = 1.5       # beam velocity\n",
    "    vth       = 1       # beam width\n",
    "    A         = 0.1     # perturbation\n",
    "    plotRealTime = True # switch on for plotting as the simulation goes along\n",
    "        \n",
    "    pos = np.zeros((N,2))\n",
    "    \n",
    "    #initial positions of particles, organized which gaussian noise into two beams\n",
    "    pos[:np.floor(N/2).astype(int),1] = np.mod(5*Ly/10 + 0.05 * np.random.randn(np.floor(N/2).astype(int)), Ly)\n",
    "    pos[np.floor(N/2).astype(int):,1] = np.mod(5*Ly/10 + 0.05 * np.random.randn(np.floor(N/2).astype(int)), Ly)\n",
    "    pos[:,0] = np.random.uniform(0,Lx, size = N)\n",
    "    \n",
    "    #initial velocity of each particle, organized with gaussian noise into two beams\n",
    "    vel = np.zeros((N,2))\n",
    "    vel[:np.floor(N/2).astype(int),0]  = vth * np.random.randn(np.floor(N/2).astype(int)) + 0.25*vb\n",
    "    vel[np.floor(N/2).astype(int):,0]  = -vth * np.random.randn(np.floor(N/2).astype(int)) - vb\n",
    "\n",
    "    vel[:,0] *= (1 + A*np.sin(2*np.pi*pos[:,0]/Lx))\n",
    "    \n",
    "    Nt = int(np.ceil(tEnd/dt))\n",
    "    \n",
    "    #calculate inital acceleration\n",
    "    acc = getAccel(pos,Nx,Ny,Lx,Ly,dt,n0,N)\n",
    "    \n",
    "    #calculate new positions and velocities for each time step using leapfrog method\n",
    "    for i in tqdm(range(Nt)):\n",
    "        # (1/2) kick\n",
    "        vel += acc * dt/2.0\n",
    "        \n",
    "        # drift (and apply periodic boundary conditions)\n",
    "        pos += vel * dt\n",
    "        pos[:,0] = np.mod(pos[:,0], Lx)\n",
    "        pos[:,1] = np.mod(pos[:,1], Ly)\n",
    "\n",
    "\n",
    "        # update accelerations\n",
    "        acc = getAccel(pos,Nx,Ny,Lx,Ly,dt,n0,N)\n",
    "        \n",
    "        # (1/2) kick\n",
    "        vel += acc * dt/2.0\n",
    "\n",
    "        # update time\n",
    "        t += dt\n",
    "        \n",
    "        %matplotlib\n",
    "        # plot in real time - color 1/2 particles blue, other half red\n",
    "        if plotRealTime or (i == Nt-1):\n",
    "            plt.cla()\n",
    "            #plt.scatter(pos[:np.floor(N/2).astype(int),0],pos[:np.floor(N/2).astype(int),1],s=.4,color='blue', alpha=0.5)\n",
    "            #plt.scatter(pos[np.floor(N/2).astype(int):,0],pos[np.floor(N/2).astype(int):,1],s=.4,color='red', alpha=0.5)\n",
    "            plt.scatter(pos[:np.floor(N/2).astype(int),0],vel[:np.floor(N/2).astype(int),0],s=.4,color='blue', alpha=0.5)\n",
    "            plt.scatter(pos[np.floor(N/2).astype(int):,0],vel[np.floor(N/2).astype(int):,0],s=.4,color='red', alpha=0.5)\n",
    "            plt.axis([0,Lx,-Ly,Ly])\n",
    "\n",
    "            plt.pause(0.001)\n",
    "            \n",
    "    # Save figure\n",
    "    plt.xlabel('x')\n",
    "    plt.ylabel('y')\n",
    "    #plt.savefig('pic.png',dpi=240)\n",
    "    plt.show()\n",
    "    \n",
    "    return 0\n",
    "\n"
   ]
  },
  {
   "cell_type": "code",
   "execution_count": 30,
   "id": "2f106765",
   "metadata": {},
   "outputs": [
    {
     "name": "stderr",
     "output_type": "stream",
     "text": [
      "\r",
      "  0%|                                                                                          | 0/100 [00:00<?, ?it/s]"
     ]
    },
    {
     "name": "stdout",
     "output_type": "stream",
     "text": [
      "Using matplotlib backend: QtAgg\n"
     ]
    },
    {
     "name": "stderr",
     "output_type": "stream",
     "text": [
      "  2%|█▋                                                                                | 2/100 [00:00<00:45,  2.18it/s]"
     ]
    },
    {
     "name": "stdout",
     "output_type": "stream",
     "text": [
      "Using matplotlib backend: QtAgg\n"
     ]
    },
    {
     "name": "stderr",
     "output_type": "stream",
     "text": [
      "\r",
      "  3%|██▍                                                                               | 3/100 [00:01<00:42,  2.27it/s]"
     ]
    },
    {
     "name": "stdout",
     "output_type": "stream",
     "text": [
      "Using matplotlib backend: QtAgg\n"
     ]
    },
    {
     "name": "stderr",
     "output_type": "stream",
     "text": [
      "\r",
      "  4%|███▎                                                                              | 4/100 [00:01<00:42,  2.25it/s]"
     ]
    },
    {
     "name": "stdout",
     "output_type": "stream",
     "text": [
      "Using matplotlib backend: QtAgg\n"
     ]
    },
    {
     "name": "stderr",
     "output_type": "stream",
     "text": [
      "\r",
      "  5%|████                                                                              | 5/100 [00:02<00:41,  2.28it/s]"
     ]
    },
    {
     "name": "stdout",
     "output_type": "stream",
     "text": [
      "Using matplotlib backend: QtAgg\n"
     ]
    },
    {
     "name": "stderr",
     "output_type": "stream",
     "text": [
      "\r",
      "  6%|████▉                                                                             | 6/100 [00:02<00:40,  2.29it/s]"
     ]
    },
    {
     "name": "stdout",
     "output_type": "stream",
     "text": [
      "Using matplotlib backend: QtAgg\n"
     ]
    },
    {
     "name": "stderr",
     "output_type": "stream",
     "text": [
      "\r",
      "  7%|█████▋                                                                            | 7/100 [00:03<00:39,  2.33it/s]"
     ]
    },
    {
     "name": "stdout",
     "output_type": "stream",
     "text": [
      "Using matplotlib backend: QtAgg\n"
     ]
    },
    {
     "name": "stderr",
     "output_type": "stream",
     "text": [
      "\r",
      "  8%|██████▌                                                                           | 8/100 [00:03<00:39,  2.34it/s]"
     ]
    },
    {
     "name": "stdout",
     "output_type": "stream",
     "text": [
      "Using matplotlib backend: QtAgg\n"
     ]
    },
    {
     "name": "stderr",
     "output_type": "stream",
     "text": [
      "\r",
      "  9%|███████▍                                                                          | 9/100 [00:03<00:38,  2.37it/s]"
     ]
    },
    {
     "name": "stdout",
     "output_type": "stream",
     "text": [
      "Using matplotlib backend: QtAgg\n"
     ]
    },
    {
     "name": "stderr",
     "output_type": "stream",
     "text": [
      "\r",
      " 10%|████████                                                                         | 10/100 [00:04<00:37,  2.37it/s]"
     ]
    },
    {
     "name": "stdout",
     "output_type": "stream",
     "text": [
      "Using matplotlib backend: QtAgg\n"
     ]
    },
    {
     "name": "stderr",
     "output_type": "stream",
     "text": [
      "\r",
      " 11%|████████▉                                                                        | 11/100 [00:04<00:37,  2.36it/s]"
     ]
    },
    {
     "name": "stdout",
     "output_type": "stream",
     "text": [
      "Using matplotlib backend: QtAgg\n"
     ]
    },
    {
     "name": "stderr",
     "output_type": "stream",
     "text": [
      "\r",
      " 12%|█████████▋                                                                       | 12/100 [00:05<00:37,  2.32it/s]"
     ]
    },
    {
     "name": "stdout",
     "output_type": "stream",
     "text": [
      "Using matplotlib backend: QtAgg\n"
     ]
    },
    {
     "name": "stderr",
     "output_type": "stream",
     "text": [
      "\r",
      " 13%|██████████▌                                                                      | 13/100 [00:05<00:37,  2.34it/s]"
     ]
    },
    {
     "name": "stdout",
     "output_type": "stream",
     "text": [
      "Using matplotlib backend: QtAgg\n"
     ]
    },
    {
     "name": "stderr",
     "output_type": "stream",
     "text": [
      "\r",
      " 14%|███████████▎                                                                     | 14/100 [00:06<00:36,  2.35it/s]"
     ]
    },
    {
     "name": "stdout",
     "output_type": "stream",
     "text": [
      "Using matplotlib backend: QtAgg\n"
     ]
    },
    {
     "name": "stderr",
     "output_type": "stream",
     "text": [
      "\r",
      " 15%|████████████▏                                                                    | 15/100 [00:06<00:36,  2.34it/s]"
     ]
    },
    {
     "name": "stdout",
     "output_type": "stream",
     "text": [
      "Using matplotlib backend: QtAgg\n"
     ]
    },
    {
     "name": "stderr",
     "output_type": "stream",
     "text": [
      "\r",
      " 16%|████████████▉                                                                    | 16/100 [00:06<00:36,  2.31it/s]"
     ]
    },
    {
     "name": "stdout",
     "output_type": "stream",
     "text": [
      "Using matplotlib backend: QtAgg\n"
     ]
    },
    {
     "name": "stderr",
     "output_type": "stream",
     "text": [
      "\r",
      " 17%|█████████████▊                                                                   | 17/100 [00:07<00:36,  2.30it/s]"
     ]
    },
    {
     "name": "stdout",
     "output_type": "stream",
     "text": [
      "Using matplotlib backend: QtAgg\n"
     ]
    },
    {
     "name": "stderr",
     "output_type": "stream",
     "text": [
      "\r",
      " 18%|██████████████▌                                                                  | 18/100 [00:07<00:35,  2.31it/s]"
     ]
    },
    {
     "name": "stdout",
     "output_type": "stream",
     "text": [
      "Using matplotlib backend: QtAgg\n"
     ]
    },
    {
     "name": "stderr",
     "output_type": "stream",
     "text": [
      "\r",
      " 19%|███████████████▍                                                                 | 19/100 [00:08<00:34,  2.34it/s]"
     ]
    },
    {
     "name": "stdout",
     "output_type": "stream",
     "text": [
      "Using matplotlib backend: QtAgg\n"
     ]
    },
    {
     "name": "stderr",
     "output_type": "stream",
     "text": [
      "\r",
      " 20%|████████████████▏                                                                | 20/100 [00:08<00:33,  2.38it/s]"
     ]
    },
    {
     "name": "stdout",
     "output_type": "stream",
     "text": [
      "Using matplotlib backend: QtAgg\n"
     ]
    },
    {
     "name": "stderr",
     "output_type": "stream",
     "text": [
      "\r",
      " 21%|█████████████████                                                                | 21/100 [00:09<00:33,  2.39it/s]"
     ]
    },
    {
     "name": "stdout",
     "output_type": "stream",
     "text": [
      "Using matplotlib backend: QtAgg\n"
     ]
    },
    {
     "name": "stderr",
     "output_type": "stream",
     "text": [
      "\r",
      " 22%|█████████████████▊                                                               | 22/100 [00:09<00:32,  2.37it/s]"
     ]
    },
    {
     "name": "stdout",
     "output_type": "stream",
     "text": [
      "Using matplotlib backend: QtAgg\n"
     ]
    },
    {
     "name": "stderr",
     "output_type": "stream",
     "text": [
      "\r",
      " 23%|██████████████████▋                                                              | 23/100 [00:09<00:32,  2.39it/s]"
     ]
    },
    {
     "name": "stdout",
     "output_type": "stream",
     "text": [
      "Using matplotlib backend: QtAgg\n"
     ]
    },
    {
     "name": "stderr",
     "output_type": "stream",
     "text": [
      "\r",
      " 24%|███████████████████▍                                                             | 24/100 [00:10<00:31,  2.40it/s]"
     ]
    },
    {
     "name": "stdout",
     "output_type": "stream",
     "text": [
      "Using matplotlib backend: QtAgg\n"
     ]
    },
    {
     "name": "stderr",
     "output_type": "stream",
     "text": [
      "\r",
      " 25%|████████████████████▎                                                            | 25/100 [00:10<00:31,  2.40it/s]"
     ]
    },
    {
     "name": "stdout",
     "output_type": "stream",
     "text": [
      "Using matplotlib backend: QtAgg\n"
     ]
    },
    {
     "name": "stderr",
     "output_type": "stream",
     "text": [
      "\r",
      " 26%|█████████████████████                                                            | 26/100 [00:11<00:30,  2.41it/s]"
     ]
    },
    {
     "name": "stdout",
     "output_type": "stream",
     "text": [
      "Using matplotlib backend: QtAgg\n"
     ]
    },
    {
     "name": "stderr",
     "output_type": "stream",
     "text": [
      "\r",
      " 27%|█████████████████████▊                                                           | 27/100 [00:11<00:30,  2.41it/s]"
     ]
    },
    {
     "name": "stdout",
     "output_type": "stream",
     "text": [
      "Using matplotlib backend: QtAgg\n",
      "Using matplotlib backend: QtAgg\n"
     ]
    },
    {
     "name": "stderr",
     "output_type": "stream",
     "text": [
      " 29%|███████████████████████▍                                                         | 29/100 [00:12<00:31,  2.29it/s]"
     ]
    },
    {
     "name": "stdout",
     "output_type": "stream",
     "text": [
      "Using matplotlib backend: QtAgg\n"
     ]
    },
    {
     "name": "stderr",
     "output_type": "stream",
     "text": [
      "\r",
      " 30%|████████████████████████▎                                                        | 30/100 [00:12<00:30,  2.33it/s]"
     ]
    },
    {
     "name": "stdout",
     "output_type": "stream",
     "text": [
      "Using matplotlib backend: QtAgg\n"
     ]
    },
    {
     "name": "stderr",
     "output_type": "stream",
     "text": [
      "\r",
      " 31%|█████████████████████████                                                        | 31/100 [00:13<00:29,  2.36it/s]"
     ]
    },
    {
     "name": "stdout",
     "output_type": "stream",
     "text": [
      "Using matplotlib backend: QtAgg\n"
     ]
    },
    {
     "name": "stderr",
     "output_type": "stream",
     "text": [
      "\r",
      " 32%|█████████████████████████▉                                                       | 32/100 [00:13<00:28,  2.39it/s]"
     ]
    },
    {
     "name": "stdout",
     "output_type": "stream",
     "text": [
      "Using matplotlib backend: QtAgg\n"
     ]
    },
    {
     "name": "stderr",
     "output_type": "stream",
     "text": [
      "\r",
      " 33%|██████████████████████████▋                                                      | 33/100 [00:14<00:28,  2.36it/s]"
     ]
    },
    {
     "name": "stdout",
     "output_type": "stream",
     "text": [
      "Using matplotlib backend: QtAgg\n"
     ]
    },
    {
     "name": "stderr",
     "output_type": "stream",
     "text": [
      "\r",
      " 34%|███████████████████████████▌                                                     | 34/100 [00:14<00:27,  2.38it/s]"
     ]
    },
    {
     "name": "stdout",
     "output_type": "stream",
     "text": [
      "Using matplotlib backend: QtAgg\n"
     ]
    },
    {
     "name": "stderr",
     "output_type": "stream",
     "text": [
      "\r",
      " 35%|████████████████████████████▎                                                    | 35/100 [00:14<00:26,  2.41it/s]"
     ]
    },
    {
     "name": "stdout",
     "output_type": "stream",
     "text": [
      "Using matplotlib backend: QtAgg\n"
     ]
    },
    {
     "name": "stderr",
     "output_type": "stream",
     "text": [
      "\r",
      " 36%|█████████████████████████████▏                                                   | 36/100 [00:15<00:26,  2.39it/s]"
     ]
    },
    {
     "name": "stdout",
     "output_type": "stream",
     "text": [
      "Using matplotlib backend: QtAgg\n"
     ]
    },
    {
     "name": "stderr",
     "output_type": "stream",
     "text": [
      "\r",
      " 37%|█████████████████████████████▉                                                   | 37/100 [00:15<00:25,  2.42it/s]"
     ]
    },
    {
     "name": "stdout",
     "output_type": "stream",
     "text": [
      "Using matplotlib backend: QtAgg\n"
     ]
    },
    {
     "name": "stderr",
     "output_type": "stream",
     "text": [
      "\r",
      " 38%|██████████████████████████████▊                                                  | 38/100 [00:16<00:25,  2.43it/s]"
     ]
    },
    {
     "name": "stdout",
     "output_type": "stream",
     "text": [
      "Using matplotlib backend: QtAgg\n"
     ]
    },
    {
     "name": "stderr",
     "output_type": "stream",
     "text": [
      "\r",
      " 39%|███████████████████████████████▌                                                 | 39/100 [00:16<00:25,  2.42it/s]"
     ]
    },
    {
     "name": "stdout",
     "output_type": "stream",
     "text": [
      "Using matplotlib backend: QtAgg\n"
     ]
    },
    {
     "name": "stderr",
     "output_type": "stream",
     "text": [
      "\r",
      " 40%|████████████████████████████████▍                                                | 40/100 [00:16<00:24,  2.44it/s]"
     ]
    },
    {
     "name": "stdout",
     "output_type": "stream",
     "text": [
      "Using matplotlib backend: QtAgg\n"
     ]
    },
    {
     "name": "stderr",
     "output_type": "stream",
     "text": [
      "\r",
      " 41%|█████████████████████████████████▏                                               | 41/100 [00:17<00:24,  2.45it/s]"
     ]
    },
    {
     "name": "stdout",
     "output_type": "stream",
     "text": [
      "Using matplotlib backend: QtAgg\n"
     ]
    },
    {
     "name": "stderr",
     "output_type": "stream",
     "text": [
      "\r",
      " 42%|██████████████████████████████████                                               | 42/100 [00:17<00:23,  2.44it/s]"
     ]
    },
    {
     "name": "stdout",
     "output_type": "stream",
     "text": [
      "Using matplotlib backend: QtAgg\n"
     ]
    },
    {
     "name": "stderr",
     "output_type": "stream",
     "text": [
      "\r",
      " 43%|██████████████████████████████████▊                                              | 43/100 [00:18<00:23,  2.43it/s]"
     ]
    },
    {
     "name": "stdout",
     "output_type": "stream",
     "text": [
      "Using matplotlib backend: QtAgg\n"
     ]
    },
    {
     "name": "stderr",
     "output_type": "stream",
     "text": [
      "\r",
      " 44%|███████████████████████████████████▋                                             | 44/100 [00:18<00:22,  2.44it/s]"
     ]
    },
    {
     "name": "stdout",
     "output_type": "stream",
     "text": [
      "Using matplotlib backend: QtAgg\n"
     ]
    },
    {
     "name": "stderr",
     "output_type": "stream",
     "text": [
      "\r",
      " 45%|████████████████████████████████████▍                                            | 45/100 [00:19<00:22,  2.45it/s]"
     ]
    },
    {
     "name": "stdout",
     "output_type": "stream",
     "text": [
      "Using matplotlib backend: QtAgg\n"
     ]
    },
    {
     "name": "stderr",
     "output_type": "stream",
     "text": [
      "\r",
      " 46%|█████████████████████████████████████▎                                           | 46/100 [00:19<00:22,  2.45it/s]"
     ]
    },
    {
     "name": "stdout",
     "output_type": "stream",
     "text": [
      "Using matplotlib backend: QtAgg\n"
     ]
    },
    {
     "name": "stderr",
     "output_type": "stream",
     "text": [
      "\r",
      " 47%|██████████████████████████████████████                                           | 47/100 [00:19<00:21,  2.46it/s]"
     ]
    },
    {
     "name": "stdout",
     "output_type": "stream",
     "text": [
      "Using matplotlib backend: QtAgg\n"
     ]
    },
    {
     "name": "stderr",
     "output_type": "stream",
     "text": [
      "\r",
      " 48%|██████████████████████████████████████▉                                          | 48/100 [00:20<00:21,  2.46it/s]"
     ]
    },
    {
     "name": "stdout",
     "output_type": "stream",
     "text": [
      "Using matplotlib backend: QtAgg\n"
     ]
    },
    {
     "name": "stderr",
     "output_type": "stream",
     "text": [
      "\r",
      " 49%|███████████████████████████████████████▋                                         | 49/100 [00:20<00:20,  2.47it/s]"
     ]
    },
    {
     "name": "stdout",
     "output_type": "stream",
     "text": [
      "Using matplotlib backend: QtAgg\n"
     ]
    },
    {
     "name": "stderr",
     "output_type": "stream",
     "text": [
      "\r",
      " 50%|████████████████████████████████████████▌                                        | 50/100 [00:21<00:20,  2.43it/s]"
     ]
    },
    {
     "name": "stdout",
     "output_type": "stream",
     "text": [
      "Using matplotlib backend: QtAgg\n"
     ]
    },
    {
     "name": "stderr",
     "output_type": "stream",
     "text": [
      "\r",
      " 51%|█████████████████████████████████████████▎                                       | 51/100 [00:21<00:20,  2.44it/s]"
     ]
    },
    {
     "name": "stdout",
     "output_type": "stream",
     "text": [
      "Using matplotlib backend: QtAgg\n"
     ]
    },
    {
     "name": "stderr",
     "output_type": "stream",
     "text": [
      "\r",
      " 52%|██████████████████████████████████████████                                       | 52/100 [00:21<00:19,  2.45it/s]"
     ]
    },
    {
     "name": "stdout",
     "output_type": "stream",
     "text": [
      "Using matplotlib backend: QtAgg\n"
     ]
    },
    {
     "name": "stderr",
     "output_type": "stream",
     "text": [
      "\r",
      " 53%|██████████████████████████████████████████▉                                      | 53/100 [00:22<00:19,  2.45it/s]"
     ]
    },
    {
     "name": "stdout",
     "output_type": "stream",
     "text": [
      "Using matplotlib backend: QtAgg\n"
     ]
    },
    {
     "name": "stderr",
     "output_type": "stream",
     "text": [
      "\r",
      " 54%|███████████████████████████████████████████▋                                     | 54/100 [00:22<00:18,  2.46it/s]"
     ]
    },
    {
     "name": "stdout",
     "output_type": "stream",
     "text": [
      "Using matplotlib backend: QtAgg\n"
     ]
    },
    {
     "name": "stderr",
     "output_type": "stream",
     "text": [
      "\r",
      " 55%|████████████████████████████████████████████▌                                    | 55/100 [00:23<00:18,  2.47it/s]"
     ]
    },
    {
     "name": "stdout",
     "output_type": "stream",
     "text": [
      "Using matplotlib backend: QtAgg\n"
     ]
    },
    {
     "name": "stderr",
     "output_type": "stream",
     "text": [
      "\r",
      " 56%|█████████████████████████████████████████████▎                                   | 56/100 [00:23<00:17,  2.47it/s]"
     ]
    },
    {
     "name": "stdout",
     "output_type": "stream",
     "text": [
      "Using matplotlib backend: QtAgg\n"
     ]
    },
    {
     "name": "stderr",
     "output_type": "stream",
     "text": [
      "\r",
      " 57%|██████████████████████████████████████████████▏                                  | 57/100 [00:23<00:17,  2.44it/s]"
     ]
    },
    {
     "name": "stdout",
     "output_type": "stream",
     "text": [
      "Using matplotlib backend: QtAgg\n"
     ]
    },
    {
     "name": "stderr",
     "output_type": "stream",
     "text": [
      "\r",
      " 58%|██████████████████████████████████████████████▉                                  | 58/100 [00:24<00:17,  2.45it/s]"
     ]
    },
    {
     "name": "stdout",
     "output_type": "stream",
     "text": [
      "Using matplotlib backend: QtAgg\n"
     ]
    },
    {
     "name": "stderr",
     "output_type": "stream",
     "text": [
      "\r",
      " 59%|███████████████████████████████████████████████▊                                 | 59/100 [00:24<00:16,  2.44it/s]"
     ]
    },
    {
     "name": "stdout",
     "output_type": "stream",
     "text": [
      "Using matplotlib backend: QtAgg\n"
     ]
    },
    {
     "name": "stderr",
     "output_type": "stream",
     "text": [
      "\r",
      " 60%|████████████████████████████████████████████████▌                                | 60/100 [00:25<00:16,  2.39it/s]"
     ]
    },
    {
     "name": "stdout",
     "output_type": "stream",
     "text": [
      "Using matplotlib backend: QtAgg\n"
     ]
    },
    {
     "name": "stderr",
     "output_type": "stream",
     "text": [
      "\r",
      " 61%|█████████████████████████████████████████████████▍                               | 61/100 [00:25<00:16,  2.40it/s]"
     ]
    },
    {
     "name": "stdout",
     "output_type": "stream",
     "text": [
      "Using matplotlib backend: QtAgg\n"
     ]
    },
    {
     "name": "stderr",
     "output_type": "stream",
     "text": [
      "\r",
      " 62%|██████████████████████████████████████████████████▏                              | 62/100 [00:26<00:16,  2.37it/s]"
     ]
    },
    {
     "name": "stdout",
     "output_type": "stream",
     "text": [
      "Using matplotlib backend: QtAgg\n"
     ]
    },
    {
     "name": "stderr",
     "output_type": "stream",
     "text": [
      "\r",
      " 63%|███████████████████████████████████████████████████                              | 63/100 [00:26<00:15,  2.40it/s]"
     ]
    },
    {
     "name": "stdout",
     "output_type": "stream",
     "text": [
      "Using matplotlib backend: QtAgg\n"
     ]
    },
    {
     "name": "stderr",
     "output_type": "stream",
     "text": [
      "\r",
      " 64%|███████████████████████████████████████████████████▊                             | 64/100 [00:26<00:15,  2.37it/s]"
     ]
    },
    {
     "name": "stdout",
     "output_type": "stream",
     "text": [
      "Using matplotlib backend: QtAgg\n"
     ]
    },
    {
     "name": "stderr",
     "output_type": "stream",
     "text": [
      "\r",
      " 65%|████████████████████████████████████████████████████▋                            | 65/100 [00:27<00:14,  2.40it/s]"
     ]
    },
    {
     "name": "stdout",
     "output_type": "stream",
     "text": [
      "Using matplotlib backend: QtAgg\n"
     ]
    },
    {
     "name": "stderr",
     "output_type": "stream",
     "text": [
      "\r",
      " 66%|█████████████████████████████████████████████████████▍                           | 66/100 [00:27<00:14,  2.43it/s]"
     ]
    },
    {
     "name": "stdout",
     "output_type": "stream",
     "text": [
      "Using matplotlib backend: QtAgg\n"
     ]
    },
    {
     "name": "stderr",
     "output_type": "stream",
     "text": [
      "\r",
      " 67%|██████████████████████████████████████████████████████▎                          | 67/100 [00:28<00:13,  2.41it/s]"
     ]
    },
    {
     "name": "stdout",
     "output_type": "stream",
     "text": [
      "Using matplotlib backend: QtAgg\n"
     ]
    },
    {
     "name": "stderr",
     "output_type": "stream",
     "text": [
      "\r",
      " 68%|███████████████████████████████████████████████████████                          | 68/100 [00:28<00:13,  2.42it/s]"
     ]
    },
    {
     "name": "stdout",
     "output_type": "stream",
     "text": [
      "Using matplotlib backend: QtAgg\n"
     ]
    },
    {
     "name": "stderr",
     "output_type": "stream",
     "text": [
      "\r",
      " 69%|███████████████████████████████████████████████████████▉                         | 69/100 [00:28<00:12,  2.44it/s]"
     ]
    },
    {
     "name": "stdout",
     "output_type": "stream",
     "text": [
      "Using matplotlib backend: QtAgg\n"
     ]
    },
    {
     "name": "stderr",
     "output_type": "stream",
     "text": [
      "\r",
      " 70%|████████████████████████████████████████████████████████▋                        | 70/100 [00:29<00:12,  2.45it/s]"
     ]
    },
    {
     "name": "stdout",
     "output_type": "stream",
     "text": [
      "Using matplotlib backend: QtAgg\n"
     ]
    },
    {
     "name": "stderr",
     "output_type": "stream",
     "text": [
      "\r",
      " 71%|█████████████████████████████████████████████████████████▌                       | 71/100 [00:29<00:11,  2.44it/s]"
     ]
    },
    {
     "name": "stdout",
     "output_type": "stream",
     "text": [
      "Using matplotlib backend: QtAgg\n"
     ]
    },
    {
     "name": "stderr",
     "output_type": "stream",
     "text": [
      "\r",
      " 72%|██████████████████████████████████████████████████████████▎                      | 72/100 [00:30<00:11,  2.45it/s]"
     ]
    },
    {
     "name": "stdout",
     "output_type": "stream",
     "text": [
      "Using matplotlib backend: QtAgg\n"
     ]
    },
    {
     "name": "stderr",
     "output_type": "stream",
     "text": [
      "\r",
      " 73%|███████████████████████████████████████████████████████████▏                     | 73/100 [00:30<00:11,  2.45it/s]"
     ]
    },
    {
     "name": "stdout",
     "output_type": "stream",
     "text": [
      "Using matplotlib backend: QtAgg\n"
     ]
    },
    {
     "name": "stderr",
     "output_type": "stream",
     "text": [
      "\r",
      " 74%|███████████████████████████████████████████████████████████▉                     | 74/100 [00:30<00:10,  2.45it/s]"
     ]
    },
    {
     "name": "stdout",
     "output_type": "stream",
     "text": [
      "Using matplotlib backend: QtAgg\n"
     ]
    },
    {
     "name": "stderr",
     "output_type": "stream",
     "text": [
      "\r",
      " 75%|████████████████████████████████████████████████████████████▊                    | 75/100 [00:31<00:10,  2.41it/s]"
     ]
    },
    {
     "name": "stdout",
     "output_type": "stream",
     "text": [
      "Using matplotlib backend: QtAgg\n"
     ]
    },
    {
     "name": "stderr",
     "output_type": "stream",
     "text": [
      "\r",
      " 76%|█████████████████████████████████████████████████████████████▌                   | 76/100 [00:31<00:10,  2.40it/s]"
     ]
    },
    {
     "name": "stdout",
     "output_type": "stream",
     "text": [
      "Using matplotlib backend: QtAgg\n"
     ]
    },
    {
     "name": "stderr",
     "output_type": "stream",
     "text": [
      "\r",
      " 77%|██████████████████████████████████████████████████████████████▎                  | 77/100 [00:32<00:09,  2.39it/s]"
     ]
    },
    {
     "name": "stdout",
     "output_type": "stream",
     "text": [
      "Using matplotlib backend: QtAgg\n"
     ]
    },
    {
     "name": "stderr",
     "output_type": "stream",
     "text": [
      "\r",
      " 78%|███████████████████████████████████████████████████████████████▏                 | 78/100 [00:32<00:09,  2.39it/s]"
     ]
    },
    {
     "name": "stdout",
     "output_type": "stream",
     "text": [
      "Using matplotlib backend: QtAgg\n"
     ]
    },
    {
     "name": "stderr",
     "output_type": "stream",
     "text": [
      "\r",
      " 79%|███████████████████████████████████████████████████████████████▉                 | 79/100 [00:33<00:08,  2.35it/s]"
     ]
    },
    {
     "name": "stdout",
     "output_type": "stream",
     "text": [
      "Using matplotlib backend: QtAgg\n"
     ]
    },
    {
     "name": "stderr",
     "output_type": "stream",
     "text": [
      "\r",
      " 80%|████████████████████████████████████████████████████████████████▊                | 80/100 [00:33<00:08,  2.37it/s]"
     ]
    },
    {
     "name": "stdout",
     "output_type": "stream",
     "text": [
      "Using matplotlib backend: QtAgg\n"
     ]
    },
    {
     "name": "stderr",
     "output_type": "stream",
     "text": [
      "\r",
      " 81%|█████████████████████████████████████████████████████████████████▌               | 81/100 [00:33<00:07,  2.38it/s]"
     ]
    },
    {
     "name": "stdout",
     "output_type": "stream",
     "text": [
      "Using matplotlib backend: QtAgg\n"
     ]
    },
    {
     "name": "stderr",
     "output_type": "stream",
     "text": [
      "\r",
      " 82%|██████████████████████████████████████████████████████████████████▍              | 82/100 [00:34<00:07,  2.39it/s]"
     ]
    },
    {
     "name": "stdout",
     "output_type": "stream",
     "text": [
      "Using matplotlib backend: QtAgg\n"
     ]
    },
    {
     "name": "stderr",
     "output_type": "stream",
     "text": [
      "\r",
      " 83%|███████████████████████████████████████████████████████████████████▏             | 83/100 [00:34<00:07,  2.41it/s]"
     ]
    },
    {
     "name": "stdout",
     "output_type": "stream",
     "text": [
      "Using matplotlib backend: QtAgg\n"
     ]
    },
    {
     "name": "stderr",
     "output_type": "stream",
     "text": [
      "\r",
      " 84%|████████████████████████████████████████████████████████████████████             | 84/100 [00:35<00:06,  2.40it/s]"
     ]
    },
    {
     "name": "stdout",
     "output_type": "stream",
     "text": [
      "Using matplotlib backend: QtAgg\n"
     ]
    },
    {
     "name": "stderr",
     "output_type": "stream",
     "text": [
      "\r",
      " 85%|████████████████████████████████████████████████████████████████████▊            | 85/100 [00:35<00:06,  2.39it/s]"
     ]
    },
    {
     "name": "stdout",
     "output_type": "stream",
     "text": [
      "Using matplotlib backend: QtAgg\n"
     ]
    },
    {
     "name": "stderr",
     "output_type": "stream",
     "text": [
      "\r",
      " 86%|█████████████████████████████████████████████████████████████████████▋           | 86/100 [00:35<00:05,  2.37it/s]"
     ]
    },
    {
     "name": "stdout",
     "output_type": "stream",
     "text": [
      "Using matplotlib backend: QtAgg\n"
     ]
    },
    {
     "name": "stderr",
     "output_type": "stream",
     "text": [
      "\r",
      " 87%|██████████████████████████████████████████████████████████████████████▍          | 87/100 [00:36<00:05,  2.37it/s]"
     ]
    },
    {
     "name": "stdout",
     "output_type": "stream",
     "text": [
      "Using matplotlib backend: QtAgg\n"
     ]
    },
    {
     "name": "stderr",
     "output_type": "stream",
     "text": [
      "\r",
      " 88%|███████████████████████████████████████████████████████████████████████▎         | 88/100 [00:36<00:05,  2.38it/s]"
     ]
    },
    {
     "name": "stdout",
     "output_type": "stream",
     "text": [
      "Using matplotlib backend: QtAgg\n"
     ]
    },
    {
     "name": "stderr",
     "output_type": "stream",
     "text": [
      "\r",
      " 89%|████████████████████████████████████████████████████████████████████████         | 89/100 [00:37<00:04,  2.36it/s]"
     ]
    },
    {
     "name": "stdout",
     "output_type": "stream",
     "text": [
      "Using matplotlib backend: QtAgg\n"
     ]
    },
    {
     "name": "stderr",
     "output_type": "stream",
     "text": [
      "\r",
      " 90%|████████████████████████████████████████████████████████████████████████▉        | 90/100 [00:37<00:04,  2.37it/s]"
     ]
    },
    {
     "name": "stdout",
     "output_type": "stream",
     "text": [
      "Using matplotlib backend: QtAgg\n"
     ]
    },
    {
     "name": "stderr",
     "output_type": "stream",
     "text": [
      "\r",
      " 91%|█████████████████████████████████████████████████████████████████████████▋       | 91/100 [00:38<00:03,  2.38it/s]"
     ]
    },
    {
     "name": "stdout",
     "output_type": "stream",
     "text": [
      "Using matplotlib backend: QtAgg\n"
     ]
    },
    {
     "name": "stderr",
     "output_type": "stream",
     "text": [
      "\r",
      " 92%|██████████████████████████████████████████████████████████████████████████▌      | 92/100 [00:38<00:03,  2.36it/s]"
     ]
    },
    {
     "name": "stdout",
     "output_type": "stream",
     "text": [
      "Using matplotlib backend: QtAgg\n"
     ]
    },
    {
     "name": "stderr",
     "output_type": "stream",
     "text": [
      "\r",
      " 93%|███████████████████████████████████████████████████████████████████████████▎     | 93/100 [00:38<00:02,  2.39it/s]"
     ]
    },
    {
     "name": "stdout",
     "output_type": "stream",
     "text": [
      "Using matplotlib backend: QtAgg\n"
     ]
    },
    {
     "name": "stderr",
     "output_type": "stream",
     "text": [
      "\r",
      " 94%|████████████████████████████████████████████████████████████████████████████▏    | 94/100 [00:39<00:02,  2.38it/s]"
     ]
    },
    {
     "name": "stdout",
     "output_type": "stream",
     "text": [
      "Using matplotlib backend: QtAgg\n"
     ]
    },
    {
     "name": "stderr",
     "output_type": "stream",
     "text": [
      "\r",
      " 95%|████████████████████████████████████████████████████████████████████████████▉    | 95/100 [00:39<00:02,  2.38it/s]"
     ]
    },
    {
     "name": "stdout",
     "output_type": "stream",
     "text": [
      "Using matplotlib backend: QtAgg\n"
     ]
    },
    {
     "name": "stderr",
     "output_type": "stream",
     "text": [
      "\r",
      " 96%|█████████████████████████████████████████████████████████████████████████████▊   | 96/100 [00:40<00:01,  2.32it/s]"
     ]
    },
    {
     "name": "stdout",
     "output_type": "stream",
     "text": [
      "Using matplotlib backend: QtAgg\n"
     ]
    },
    {
     "name": "stderr",
     "output_type": "stream",
     "text": [
      "\r",
      " 97%|██████████████████████████████████████████████████████████████████████████████▌  | 97/100 [00:40<00:01,  2.37it/s]"
     ]
    },
    {
     "name": "stdout",
     "output_type": "stream",
     "text": [
      "Using matplotlib backend: QtAgg\n"
     ]
    },
    {
     "name": "stderr",
     "output_type": "stream",
     "text": [
      "\r",
      " 98%|███████████████████████████████████████████████████████████████████████████████▍ | 98/100 [00:41<00:00,  2.27it/s]"
     ]
    },
    {
     "name": "stdout",
     "output_type": "stream",
     "text": [
      "Using matplotlib backend: QtAgg\n"
     ]
    },
    {
     "name": "stderr",
     "output_type": "stream",
     "text": [
      "\r",
      " 99%|████████████████████████████████████████████████████████████████████████████████▏| 99/100 [00:41<00:00,  2.29it/s]"
     ]
    },
    {
     "name": "stdout",
     "output_type": "stream",
     "text": [
      "Using matplotlib backend: QtAgg\n"
     ]
    },
    {
     "name": "stderr",
     "output_type": "stream",
     "text": [
      "100%|████████████████████████████████████████████████████████████████████████████████| 100/100 [00:41<00:00,  2.38it/s]"
     ]
    },
    {
     "name": "stdout",
     "output_type": "stream",
     "text": [
      "Using matplotlib backend: QtAgg\n"
     ]
    },
    {
     "name": "stderr",
     "output_type": "stream",
     "text": [
      "\n"
     ]
    }
   ],
   "source": [
    "if __name__== \"__main__\":\n",
    "  main()"
   ]
  },
  {
   "cell_type": "code",
   "execution_count": 27,
   "id": "4f16fb04",
   "metadata": {},
   "outputs": [
    {
     "data": {
      "image/png": "[encoded data removed]",
      "text/plain": [
       "<Figure size 640x480 with 2 Axes>"
      ]
     },
     "metadata": {},
     "output_type": "display_data"
    },
    {
     "data": {
      "image/png": "[encoded data removed]",
      "text/plain": [
       "<Figure size 640x480 with 2 Axes>"
      ]
     },
     "metadata": {},
     "output_type": "display_data"
    },
    {
     "data": {
      "image/png": "[encoded data removed]",
      "text/plain": [
       "<Figure size 640x480 with 2 Axes>"
      ]
     },
     "metadata": {},
     "output_type": "display_data"
    }
   ],
   "source": [
    "Nx = 128\n",
    "Ny = 128\n",
    "Lx = 10**2\n",
    "Ly = 10**2\n",
    "N = 10**2\n",
    "q = 1\n",
    "m = 1\n",
    "eps0 = 1\n",
    "dx = Lx/Nx\n",
    "dy = Ly/Ny\n",
    "rho = np.zeros((Nx,Ny))\n",
    "x = np.linspace(0, Lx, Nx)\n",
    "y = np.linspace(0, Ly, Ny)\n",
    "t = 0.05\n",
    "\n",
    "def gaussian2d(Nx, Ny, x, y, t):\n",
    "    g = np.zeros((Nx,Ny))\n",
    "    for i in range(Nx):\n",
    "        for j in range(Ny):\n",
    "            g[i,j] = np.exp(-((x[i]-30)**2 + (y[j]-50)**2)/(2*t)) / (4*np.pi*t)\n",
    "    return g\n",
    "\n",
    "rho2d = gaussian2d(Nx, Ny, x , y, t)\n",
    "phitest2d=phi_compute(rho2d,eps0,Nx,Ny,dx,dy)\n",
    "\n",
    "f = np.zeros((Nx,Ny))\n",
    "gauss2d_solve = phi_solve(f, rho2d, dx, roll_step, atol=1.E-6, max_steps=10**5)\n",
    "\n",
    "plt.imshow(rho2d, origin = 'lower')\n",
    "plt.title('Charge Density')\n",
    "plt.colorbar()\n",
    "plt.show()\n",
    "\n",
    "plt.imshow(phitest2d, origin = 'lower')\n",
    "plt.title('Electric potential, FFT method')\n",
    "plt.colorbar()\n",
    "plt.show()\n",
    "\n",
    "plt.imshow(gauss2d_solve, origin = 'lower')\n",
    "plt.title('Electric potential, Finite difference method')\n",
    "plt.colorbar()\n",
    "plt.show()"
   ]
  }
 ],
 "metadata": {
  "kernelspec": {
   "display_name": "Python 3 (ipykernel)",
   "language": "python",
   "name": "python3"
  },
  "language_info": {
   "codemirror_mode": {
    "name": "ipython",
    "version": 3
   },
   "file_extension": ".py",
   "mimetype": "text/x-python",
   "name": "python",
   "nbconvert_exporter": "python",
   "pygments_lexer": "ipython3",
   "version": "3.11.4"
  }
 },
 "nbformat": 4,
 "nbformat_minor": 5
}
