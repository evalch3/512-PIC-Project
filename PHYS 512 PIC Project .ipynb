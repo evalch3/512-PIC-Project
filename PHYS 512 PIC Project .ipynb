{
 "cells": [
  {
   "cell_type": "code",
   "execution_count": 1,
   "id": "6de855d2",
   "metadata": {},
   "outputs": [],
   "source": [
    "import numpy as np\n",
    "import matplotlib.pyplot as plt\n",
    "import scipy.stats as st\n",
    "from tqdm import tqdm\n",
    "import scipy\n",
    "\n",
    "\"\"\"\n",
    "The format of the getAccel() and main() functions are largely inspired by the code written by \n",
    "Philip Mocz (2020) Princeton Univeristy, @PMocz in his Create Your Own Plasma PIC Simulation (With Python)\n",
    "https://github.com/pmocz/pic-python/blob/master/pic.py\n",
    "The phi_solve() function is taken from a Mathcube article and given in \n",
    "https://gist.github.com/mathcube7/fc33438a8b10af0100bcde9858d1f239#file-poisson-1-py\n",
    "\n",
    "\n",
    "This cell contains the function which solves the poisson equation at each time step and the function that calculates\n",
    "the accleration of each particle at each time step. Both the FFT (phi_compute) and finite differencing (phi_solve) \n",
    "method functions are present, although only the phi_compute() function is used in this notebook. \n",
    "\n",
    "\"\"\"\n",
    "\n",
    "#function which calculates electric potential from charge density using FFT\n",
    "def phi_compute(rho,eps0,Nx,Ny,dx,dy):\n",
    "    kx = 2*np.pi*scipy.fft.fftfreq(Nx, d=dx)\n",
    "    ky = 2*np.pi*scipy.fft.fftfreq(Ny, d=dy)\n",
    "    \n",
    "    #calculate fft of charge density\n",
    "    rhok = scipy.fft.fft2(rho, workers = 8)\n",
    "    phik = np.zeros((Nx,Ny), dtype = np.complex_)\n",
    "    \n",
    "    #calculate fourier transform of electric potential\n",
    "    for i in range(Nx):\n",
    "        for j in range(Ny):\n",
    "            if kx[i] == 0 and ky[j] == 0:\n",
    "                phik[i,j] = 0\n",
    "            else:\n",
    "                phik[i,j] = -rhok[i,j]/(kx[i]**2 + ky[j]**2)\n",
    "                \n",
    "    phik = 1 / eps0 * phik \n",
    "    phi = np.real(scipy.fft.ifft2(phik, workers = 8)) \n",
    "\n",
    "    return phi\n",
    "\n",
    "#function which interatively calculates electric potential from charge density using finite differencing\n",
    "def phi_solve(f, rho, h, stepper, atol=1.E-6, max_steps=10**5):\n",
    "    for _ in range(max_steps):\n",
    "        f_new = stepper(f, rho, h)\n",
    "        if np.max(np.abs(f_new - f)) < atol:\n",
    "            return f_new\n",
    "        f = f_new\n",
    "    return f\n",
    "\n",
    "#function which performs one finite difference step\n",
    "def roll_step(f, rho, h):\n",
    "    f_new = 0.25 * (np.roll(f, 1, axis = 0) + np.roll(f, -1, axis = 0) + np.roll(f, 1, axis = 1) + np.roll(f, -1, axis = 1)) - 0.25 * h**2 * rho\n",
    "    return f_new\n",
    "    \n",
    "#function which calculates acceleration of each particle \n",
    "def getAccel(pos,Nx,Ny,Lx,Ly,dt,n0,N):\n",
    "    eps0 = 1\n",
    "    dx = Lx/Nx\n",
    "    dy = Ly/Ny\n",
    "    j = np.zeros((N,2))\n",
    "    jp1 = np.zeros((N,2))\n",
    "    \n",
    "    #define grid points\n",
    "    j[:,0] = np.floor(pos[:,0]/dx).astype(int)\n",
    "    j[:,1] = np.floor(pos[:,1]/dy).astype(int)\n",
    "    jp1 = j + 1\n",
    "    \n",
    "    #calculate weights of particle on each grid point\n",
    "    weight_jxjy = (jp1[:,0]*dx - pos[:,0])/dx * (jp1[:,1]*dy - pos[:,1])/dy\n",
    "    weight_jxp1jy = (pos[:,0] - j[:,0]*dx)/dx * (jp1[:,1]*dy - pos[:,1])/dy\n",
    "    weight_jxjyp1 = (jp1[:,0]*dx - pos[:,0])/dx * (pos[:,1] - j[:,1]*dy)/dy\n",
    "    weight_jxp1jyp1 = (pos[:,0] - j[:,0]*dx)/dx * (pos[:,1] - j[:,1]*dy)/dy\n",
    "    \n",
    "    #periodic boundary conditions:\n",
    "    jp1[:,0] = np.mod(jp1[:,0], Nx)\n",
    "    jp1[:,1] = np.mod(jp1[:,1], Ny)\n",
    "    \n",
    "    #smear the particle position across four nearest gridpoints, weighting by distance to each gridpoint \n",
    "    xbin = np.linspace(0, Nx, Nx+1)\n",
    "    ybin = np.linspace(0, Ny, Ny+1)\n",
    "    \n",
    "    #count number of particles smeared to each grid point\n",
    "    n = st.binned_statistic_2d(j[:,0], j[:,1], None, 'count', bins = [xbin,ybin], expand_binnumbers=True).statistic #(j,j) grid point\n",
    "    n += st.binned_statistic_2d(jp1[:,0], jp1[:,1], None, 'count', bins = [xbin,ybin], expand_binnumbers=True).statistic #(j+1,j+1) grid point\n",
    "    n += st.binned_statistic_2d(j[:,0], jp1[:,1], None, 'count', bins = [xbin,ybin], expand_binnumbers=True).statistic #(j,j+1) grid point\n",
    "    n += st.binned_statistic_2d(jp1[:,0], j[:,1], None, 'count', bins = [xbin,ybin], expand_binnumbers=True).statistic #(j+1,j) grid point\n",
    "    \n",
    "    #weight the contribution  of each particle to each grid point it has been smeared across\n",
    "    n[j[:,0].astype(int),j[:,1].astype(int)] *= weight_jxjy\n",
    "    n[jp1[:,0].astype(int),j[:,1].astype(int)] *= weight_jxp1jy\n",
    "    n[j[:,0].astype(int),jp1[:,1].astype(int)] *= weight_jxjyp1\n",
    "    n[jp1[:,0].astype(int),jp1[:,1].astype(int)] *= weight_jxp1jyp1\n",
    "    \n",
    "    #charge density from particles smeared across grid points\n",
    "    rho = n0*n*Lx*Ly/N/(dx*dy)\n",
    "    \n",
    "    #calculate electric potential at each grid point using FFT\n",
    "    phi_grid = phi_compute(rho,eps0,Nx,Ny,dx,dy)\n",
    "    \n",
    "    #calculate electric potential at each grid point using finite difference\n",
    "    #f = np.zeros((Nx,Ny))\n",
    "    #phi_grid = phi_solve(f, rho, dx, roll_step, atol=1.E-6, max_steps=10**5)\n",
    "    \n",
    "    #calculate electric field from electric potential\n",
    "    Ex = -np.gradient(phi_grid, dx, axis = 0)\n",
    "    Ey = -np.gradient(phi_grid, dy, axis = 1)\n",
    "    E = np.zeros((N,2))\n",
    "    j = j.astype(int)\n",
    "    jp1 = jp1.astype(int)\n",
    "    \n",
    "    #interpolate electric field at each particle position\n",
    "    E[:,0] = Ex[j[:,0],j[:,1]]*weight_jxjy + Ex[j[:,0],jp1[:,1]]*weight_jxjyp1 + Ex[jp1[:,0],j[:,1]]*weight_jxp1jy + Ex[jp1[:,0],jp1[:,1]]*weight_jxp1jyp1\n",
    "    E[:,1] = Ey[j[:,0],j[:,1]]*weight_jxjy + Ey[j[:,0],jp1[:,1]]*weight_jxjyp1 + Ey[jp1[:,0],j[:,1]]*weight_jxp1jy + Ey[jp1[:,0],jp1[:,1]]*weight_jxp1jyp1\n",
    "    a = -E\n",
    "    \n",
    "    return a\n",
    "\n",
    "    \n",
    "    \n",
    "    \n",
    "    "
   ]
  },
  {
   "cell_type": "code",
   "execution_count": 2,
   "id": "648bc407",
   "metadata": {},
   "outputs": [],
   "source": [
    "\"\"\"\n",
    "This cell contains the main function where the main loop of the simulation occurs, updating the position and velocity of\n",
    "each particle at each time step\n",
    "\n",
    "\"\"\"\n",
    "\n",
    "def main():\n",
    "    N = 4*10**4         # number of particles\n",
    "    Nx = 128            # grid points in x direction\n",
    "    Ny = 128            # grid points in y direction\n",
    "    Lx = 10             # grid length in x direction\n",
    "    Ly = 10             # grid length in y direction\n",
    "    dx = Lx/Nx          # grid spacing in x direction\n",
    "    dy = Ly/Ny          # grid spacing in y direction\n",
    "    t = 0               # initial time\n",
    "    tEnd = 10           # total time\n",
    "    dt = 0.1            # time step size\n",
    "    n0 = 100            # specific weight of each particle\n",
    "    vb        = 1.5       # beam velocity\n",
    "    vth       = 1       # beam width\n",
    "    A         = 0.1     # perturbation when including sinusoidal perturbation\n",
    "    plotRealTime = True # switch on for plotting as the simulation goes along\n",
    "        \n",
    "    \n",
    "    #initial positions of particles, organized with gaussian noise into two beams\n",
    "    pos = np.zeros((N,2))\n",
    "    pos[:np.floor(N/2).astype(int),1] = np.mod(5*Ly/10 + 0.05 * np.random.randn(np.floor(N/2).astype(int)), Ly)\n",
    "    pos[np.floor(N/2).astype(int):,1] = np.mod(5*Ly/10 + 0.05 * np.random.randn(np.floor(N/2).astype(int)), Ly)\n",
    "    pos[:,0] = np.random.uniform(0,Lx, size = N)\n",
    "    \n",
    "    #initial velocity of each particle, organized with gaussian noise into two beams\n",
    "    vel = np.zeros((N,2))\n",
    "    vel[:np.floor(N/2).astype(int),0]  = vth * np.random.randn(np.floor(N/2).astype(int)) + 0.25*vb\n",
    "    vel[np.floor(N/2).astype(int):,0]  = -vth * np.random.randn(np.floor(N/2).astype(int)) - vb\n",
    "\n",
    "    #sinusoidal perturbation to initial velocity\n",
    "    vel[:,0] *= (1 + A*np.sin(2*np.pi*pos[:,0]/Lx))\n",
    "        \n",
    "    #calculate inital acceleration\n",
    "    acc = getAccel(pos,Nx,Ny,Lx,Ly,dt,n0,N)\n",
    "    \n",
    "    #calculate new positions and velocities for each time step using leapfrog method\n",
    "    Nt = int(np.ceil(tEnd/dt))\n",
    "    for i in tqdm(range(Nt)):\n",
    "        # (1/2) kick\n",
    "        vel += acc * dt/2.0\n",
    "        \n",
    "        # drift (and apply periodic boundary conditions)\n",
    "        pos += vel * dt\n",
    "        pos[:,0] = np.mod(pos[:,0], Lx)\n",
    "        pos[:,1] = np.mod(pos[:,1], Ly)\n",
    "\n",
    "\n",
    "        # update accelerations\n",
    "        acc = getAccel(pos,Nx,Ny,Lx,Ly,dt,n0,N)\n",
    "        \n",
    "        # (1/2) kick\n",
    "        vel += acc * dt/2.0\n",
    "\n",
    "        # update time\n",
    "        t += dt\n",
    "        \n",
    "        %matplotlib\n",
    "        # plot in real time - color 1/2 particles blue, other half red\n",
    "        if plotRealTime or (i == Nt-1):\n",
    "            plt.cla()\n",
    "            #plt.scatter(pos[:np.floor(N/2).astype(int),0],pos[:np.floor(N/2).astype(int),1],s=.4,color='blue', alpha=0.5)\n",
    "            #plt.scatter(pos[np.floor(N/2).astype(int):,0],pos[np.floor(N/2).astype(int):,1],s=.4,color='red', alpha=0.5)\n",
    "            plt.scatter(pos[:np.floor(N/2).astype(int),0],vel[:np.floor(N/2).astype(int),0],s=.4,color='blue', alpha=0.5)\n",
    "            plt.scatter(pos[np.floor(N/2).astype(int):,0],vel[np.floor(N/2).astype(int):,0],s=.4,color='red', alpha=0.5)\n",
    "            plt.axis([0,Lx,-Ly,Ly])\n",
    "            plt.pause(0.001)\n",
    "            \n",
    "            \n",
    "    # Save figure\n",
    "    plt.xlabel('$x$')\n",
    "    plt.ylabel('$v_x$')\n",
    "    #plt.savefig('two_stream_instability.png',dpi=240)\n",
    "    plt.show()\n",
    "    \n",
    "    return 0\n",
    "\n"
   ]
  },
  {
   "cell_type": "code",
   "execution_count": 3,
   "id": "2f106765",
   "metadata": {
    "scrolled": true
   },
   "outputs": [
    {
     "name": "stderr",
     "output_type": "stream",
     "text": [
      "\r",
      "  0%|                                                                                          | 0/100 [00:00<?, ?it/s]"
     ]
    },
    {
     "name": "stdout",
     "output_type": "stream",
     "text": [
      "Using matplotlib backend: <object object at 0x00000163C52EC130>\n"
     ]
    },
    {
     "name": "stderr",
     "output_type": "stream",
     "text": [
      "  2%|█▋                                                                                | 2/100 [00:00<00:22,  4.26it/s]"
     ]
    },
    {
     "name": "stdout",
     "output_type": "stream",
     "text": [
      "Using matplotlib backend: QtAgg\n",
      "Using matplotlib backend: QtAgg\n"
     ]
    },
    {
     "name": "stderr",
     "output_type": "stream",
     "text": [
      "  4%|███▎                                                                              | 4/100 [00:00<00:16,  5.80it/s]"
     ]
    },
    {
     "name": "stdout",
     "output_type": "stream",
     "text": [
      "Using matplotlib backend: QtAgg\n",
      "Using matplotlib backend: QtAgg\n"
     ]
    },
    {
     "name": "stderr",
     "output_type": "stream",
     "text": [
      "  6%|████▉                                                                             | 6/100 [00:01<00:14,  6.37it/s]"
     ]
    },
    {
     "name": "stdout",
     "output_type": "stream",
     "text": [
      "Using matplotlib backend: QtAgg\n",
      "Using matplotlib backend: QtAgg\n"
     ]
    },
    {
     "name": "stderr",
     "output_type": "stream",
     "text": [
      "  8%|██████▌                                                                           | 8/100 [00:01<00:14,  6.19it/s]"
     ]
    },
    {
     "name": "stdout",
     "output_type": "stream",
     "text": [
      "Using matplotlib backend: QtAgg\n",
      "Using matplotlib backend: QtAgg\n"
     ]
    },
    {
     "name": "stderr",
     "output_type": "stream",
     "text": [
      " 11%|████████▉                                                                        | 11/100 [00:01<00:13,  6.60it/s]"
     ]
    },
    {
     "name": "stdout",
     "output_type": "stream",
     "text": [
      "Using matplotlib backend: QtAgg\n",
      "Using matplotlib backend: QtAgg\n"
     ]
    },
    {
     "name": "stderr",
     "output_type": "stream",
     "text": [
      "\r",
      " 12%|█████████▋                                                                       | 12/100 [00:01<00:13,  6.60it/s]"
     ]
    },
    {
     "name": "stdout",
     "output_type": "stream",
     "text": [
      "Using matplotlib backend: QtAgg\n",
      "Using matplotlib backend: QtAgg\n"
     ]
    },
    {
     "name": "stderr",
     "output_type": "stream",
     "text": [
      " 14%|███████████▎                                                                     | 14/100 [00:02<00:13,  6.58it/s]"
     ]
    },
    {
     "name": "stdout",
     "output_type": "stream",
     "text": [
      "Using matplotlib backend: QtAgg\n",
      "Using matplotlib backend: QtAgg\n"
     ]
    },
    {
     "name": "stderr",
     "output_type": "stream",
     "text": [
      " 16%|████████████▉                                                                    | 16/100 [00:02<00:12,  6.77it/s]"
     ]
    },
    {
     "name": "stdout",
     "output_type": "stream",
     "text": [
      "Using matplotlib backend: QtAgg\n",
      "Using matplotlib backend: QtAgg\n"
     ]
    },
    {
     "name": "stderr",
     "output_type": "stream",
     "text": [
      " 19%|███████████████▍                                                                 | 19/100 [00:03<00:11,  7.00it/s]"
     ]
    },
    {
     "name": "stdout",
     "output_type": "stream",
     "text": [
      "Using matplotlib backend: QtAgg\n",
      "Using matplotlib backend: QtAgg\n"
     ]
    },
    {
     "name": "stderr",
     "output_type": "stream",
     "text": [
      " 21%|█████████████████                                                                | 21/100 [00:03<00:11,  7.03it/s]"
     ]
    },
    {
     "name": "stdout",
     "output_type": "stream",
     "text": [
      "Using matplotlib backend: QtAgg\n",
      "Using matplotlib backend: QtAgg\n"
     ]
    },
    {
     "name": "stderr",
     "output_type": "stream",
     "text": [
      "\r",
      " 22%|█████████████████▊                                                               | 22/100 [00:03<00:11,  6.97it/s]"
     ]
    },
    {
     "name": "stdout",
     "output_type": "stream",
     "text": [
      "Using matplotlib backend: QtAgg\n",
      "Using matplotlib backend: QtAgg\n"
     ]
    },
    {
     "name": "stderr",
     "output_type": "stream",
     "text": [
      " 24%|███████████████████▍                                                             | 24/100 [00:03<00:10,  7.00it/s]"
     ]
    },
    {
     "name": "stdout",
     "output_type": "stream",
     "text": [
      "Using matplotlib backend: QtAgg\n",
      "Using matplotlib backend: QtAgg\n"
     ]
    },
    {
     "name": "stderr",
     "output_type": "stream",
     "text": [
      " 26%|█████████████████████                                                            | 26/100 [00:04<00:10,  6.88it/s]"
     ]
    },
    {
     "name": "stdout",
     "output_type": "stream",
     "text": [
      "Using matplotlib backend: QtAgg\n",
      "Using matplotlib backend: QtAgg\n"
     ]
    },
    {
     "name": "stderr",
     "output_type": "stream",
     "text": [
      " 28%|██████████████████████▋                                                          | 28/100 [00:04<00:10,  6.89it/s]"
     ]
    },
    {
     "name": "stdout",
     "output_type": "stream",
     "text": [
      "Using matplotlib backend: QtAgg\n",
      "Using matplotlib backend: QtAgg\n"
     ]
    },
    {
     "name": "stderr",
     "output_type": "stream",
     "text": [
      " 30%|████████████████████████▎                                                        | 30/100 [00:04<00:10,  6.97it/s]"
     ]
    },
    {
     "name": "stdout",
     "output_type": "stream",
     "text": [
      "Using matplotlib backend: QtAgg\n",
      "Using matplotlib backend: QtAgg\n"
     ]
    },
    {
     "name": "stderr",
     "output_type": "stream",
     "text": [
      " 32%|█████████████████████████▉                                                       | 32/100 [00:04<00:09,  7.07it/s]"
     ]
    },
    {
     "name": "stdout",
     "output_type": "stream",
     "text": [
      "Using matplotlib backend: QtAgg\n",
      "Using matplotlib backend: QtAgg\n"
     ]
    },
    {
     "name": "stderr",
     "output_type": "stream",
     "text": [
      " 35%|████████████████████████████▎                                                    | 35/100 [00:05<00:09,  7.14it/s]"
     ]
    },
    {
     "name": "stdout",
     "output_type": "stream",
     "text": [
      "Using matplotlib backend: QtAgg\n",
      "Using matplotlib backend: QtAgg\n"
     ]
    },
    {
     "name": "stderr",
     "output_type": "stream",
     "text": [
      "\r",
      " 36%|█████████████████████████████▏                                                   | 36/100 [00:05<00:09,  7.11it/s]"
     ]
    },
    {
     "name": "stdout",
     "output_type": "stream",
     "text": [
      "Using matplotlib backend: QtAgg\n",
      "Using matplotlib backend: QtAgg\n"
     ]
    },
    {
     "name": "stderr",
     "output_type": "stream",
     "text": [
      " 39%|███████████████████████████████▌                                                 | 39/100 [00:05<00:08,  7.12it/s]"
     ]
    },
    {
     "name": "stdout",
     "output_type": "stream",
     "text": [
      "Using matplotlib backend: QtAgg\n",
      "Using matplotlib backend: QtAgg\n"
     ]
    },
    {
     "name": "stderr",
     "output_type": "stream",
     "text": [
      "\r",
      " 40%|████████████████████████████████▍                                                | 40/100 [00:06<00:09,  6.39it/s]"
     ]
    },
    {
     "name": "stdout",
     "output_type": "stream",
     "text": [
      "Using matplotlib backend: QtAgg\n",
      "Using matplotlib backend: QtAgg\n"
     ]
    },
    {
     "name": "stderr",
     "output_type": "stream",
     "text": [
      " 42%|██████████████████████████████████                                               | 42/100 [00:06<00:08,  6.78it/s]"
     ]
    },
    {
     "name": "stdout",
     "output_type": "stream",
     "text": [
      "Using matplotlib backend: QtAgg\n",
      "Using matplotlib backend: QtAgg\n"
     ]
    },
    {
     "name": "stderr",
     "output_type": "stream",
     "text": [
      " 45%|████████████████████████████████████▍                                            | 45/100 [00:06<00:07,  7.13it/s]"
     ]
    },
    {
     "name": "stdout",
     "output_type": "stream",
     "text": [
      "Using matplotlib backend: QtAgg\n",
      "Using matplotlib backend: QtAgg\n"
     ]
    },
    {
     "name": "stderr",
     "output_type": "stream",
     "text": [
      " 47%|██████████████████████████████████████                                           | 47/100 [00:07<00:07,  7.28it/s]"
     ]
    },
    {
     "name": "stdout",
     "output_type": "stream",
     "text": [
      "Using matplotlib backend: QtAgg\n",
      "Using matplotlib backend: QtAgg\n"
     ]
    },
    {
     "name": "stderr",
     "output_type": "stream",
     "text": [
      "\r",
      " 48%|██████████████████████████████████████▉                                          | 48/100 [00:07<00:07,  7.24it/s]"
     ]
    },
    {
     "name": "stdout",
     "output_type": "stream",
     "text": [
      "Using matplotlib backend: QtAgg\n",
      "Using matplotlib backend: QtAgg\n"
     ]
    },
    {
     "name": "stderr",
     "output_type": "stream",
     "text": [
      " 50%|████████████████████████████████████████▌                                        | 50/100 [00:07<00:06,  7.19it/s]"
     ]
    },
    {
     "name": "stdout",
     "output_type": "stream",
     "text": [
      "Using matplotlib backend: QtAgg\n",
      "Using matplotlib backend: QtAgg\n"
     ]
    },
    {
     "name": "stderr",
     "output_type": "stream",
     "text": [
      " 53%|██████████████████████████████████████████▉                                      | 53/100 [00:07<00:06,  7.31it/s]"
     ]
    },
    {
     "name": "stdout",
     "output_type": "stream",
     "text": [
      "Using matplotlib backend: QtAgg\n",
      "Using matplotlib backend: QtAgg\n"
     ]
    },
    {
     "name": "stderr",
     "output_type": "stream",
     "text": [
      " 55%|████████████████████████████████████████████▌                                    | 55/100 [00:08<00:06,  7.12it/s]"
     ]
    },
    {
     "name": "stdout",
     "output_type": "stream",
     "text": [
      "Using matplotlib backend: QtAgg\n",
      "Using matplotlib backend: QtAgg\n"
     ]
    },
    {
     "name": "stderr",
     "output_type": "stream",
     "text": [
      " 57%|██████████████████████████████████████████████▏                                  | 57/100 [00:08<00:06,  7.16it/s]"
     ]
    },
    {
     "name": "stdout",
     "output_type": "stream",
     "text": [
      "Using matplotlib backend: QtAgg\n",
      "Using matplotlib backend: QtAgg\n"
     ]
    },
    {
     "name": "stderr",
     "output_type": "stream",
     "text": [
      "\r",
      " 58%|██████████████████████████████████████████████▉                                  | 58/100 [00:08<00:05,  7.22it/s]"
     ]
    },
    {
     "name": "stdout",
     "output_type": "stream",
     "text": [
      "Using matplotlib backend: QtAgg\n",
      "Using matplotlib backend: QtAgg\n"
     ]
    },
    {
     "name": "stderr",
     "output_type": "stream",
     "text": [
      " 61%|█████████████████████████████████████████████████▍                               | 61/100 [00:08<00:05,  7.19it/s]"
     ]
    },
    {
     "name": "stdout",
     "output_type": "stream",
     "text": [
      "Using matplotlib backend: QtAgg\n",
      "Using matplotlib backend: QtAgg\n"
     ]
    },
    {
     "name": "stderr",
     "output_type": "stream",
     "text": [
      "\r",
      " 62%|██████████████████████████████████████████████████▏                              | 62/100 [00:09<00:05,  7.23it/s]"
     ]
    },
    {
     "name": "stdout",
     "output_type": "stream",
     "text": [
      "Using matplotlib backend: QtAgg\n",
      "Using matplotlib backend: QtAgg\n"
     ]
    },
    {
     "name": "stderr",
     "output_type": "stream",
     "text": [
      " 65%|████████████████████████████████████████████████████▋                            | 65/100 [00:09<00:04,  7.26it/s]"
     ]
    },
    {
     "name": "stdout",
     "output_type": "stream",
     "text": [
      "Using matplotlib backend: QtAgg\n",
      "Using matplotlib backend: QtAgg\n"
     ]
    },
    {
     "name": "stderr",
     "output_type": "stream",
     "text": [
      " 67%|██████████████████████████████████████████████████████▎                          | 67/100 [00:09<00:04,  7.22it/s]"
     ]
    },
    {
     "name": "stdout",
     "output_type": "stream",
     "text": [
      "Using matplotlib backend: QtAgg\n",
      "Using matplotlib backend: QtAgg\n"
     ]
    },
    {
     "name": "stderr",
     "output_type": "stream",
     "text": [
      " 69%|███████████████████████████████████████████████████████▉                         | 69/100 [00:10<00:04,  7.26it/s]"
     ]
    },
    {
     "name": "stdout",
     "output_type": "stream",
     "text": [
      "Using matplotlib backend: QtAgg\n",
      "Using matplotlib backend: QtAgg\n"
     ]
    },
    {
     "name": "stderr",
     "output_type": "stream",
     "text": [
      "\r",
      " 70%|████████████████████████████████████████████████████████▋                        | 70/100 [00:10<00:04,  7.19it/s]"
     ]
    },
    {
     "name": "stdout",
     "output_type": "stream",
     "text": [
      "Using matplotlib backend: QtAgg\n",
      "Using matplotlib backend: QtAgg\n"
     ]
    },
    {
     "name": "stderr",
     "output_type": "stream",
     "text": [
      " 73%|███████████████████████████████████████████████████████████▏                     | 73/100 [00:10<00:03,  7.21it/s]"
     ]
    },
    {
     "name": "stdout",
     "output_type": "stream",
     "text": [
      "Using matplotlib backend: QtAgg\n",
      "Using matplotlib backend: QtAgg\n"
     ]
    },
    {
     "name": "stderr",
     "output_type": "stream",
     "text": [
      " 75%|████████████████████████████████████████████████████████████▊                    | 75/100 [00:10<00:03,  7.21it/s]"
     ]
    },
    {
     "name": "stdout",
     "output_type": "stream",
     "text": [
      "Using matplotlib backend: QtAgg\n",
      "Using matplotlib backend: QtAgg\n"
     ]
    },
    {
     "name": "stderr",
     "output_type": "stream",
     "text": [
      " 77%|██████████████████████████████████████████████████████████████▎                  | 77/100 [00:11<00:03,  7.23it/s]"
     ]
    },
    {
     "name": "stdout",
     "output_type": "stream",
     "text": [
      "Using matplotlib backend: QtAgg\n",
      "Using matplotlib backend: QtAgg\n"
     ]
    },
    {
     "name": "stderr",
     "output_type": "stream",
     "text": [
      " 79%|███████████████████████████████████████████████████████████████▉                 | 79/100 [00:11<00:02,  7.17it/s]"
     ]
    },
    {
     "name": "stdout",
     "output_type": "stream",
     "text": [
      "Using matplotlib backend: QtAgg\n",
      "Using matplotlib backend: QtAgg\n"
     ]
    },
    {
     "name": "stderr",
     "output_type": "stream",
     "text": [
      "\r",
      " 80%|████████████████████████████████████████████████████████████████▊                | 80/100 [00:11<00:02,  7.19it/s]"
     ]
    },
    {
     "name": "stdout",
     "output_type": "stream",
     "text": [
      "Using matplotlib backend: QtAgg\n",
      "Using matplotlib backend: QtAgg\n"
     ]
    },
    {
     "name": "stderr",
     "output_type": "stream",
     "text": [
      " 83%|███████████████████████████████████████████████████████████████████▏             | 83/100 [00:12<00:02,  7.19it/s]"
     ]
    },
    {
     "name": "stdout",
     "output_type": "stream",
     "text": [
      "Using matplotlib backend: QtAgg\n",
      "Using matplotlib backend: QtAgg\n"
     ]
    },
    {
     "name": "stderr",
     "output_type": "stream",
     "text": [
      "\r",
      " 84%|████████████████████████████████████████████████████████████████████             | 84/100 [00:12<00:02,  7.16it/s]"
     ]
    },
    {
     "name": "stdout",
     "output_type": "stream",
     "text": [
      "Using matplotlib backend: QtAgg\n",
      "Using matplotlib backend: QtAgg\n"
     ]
    },
    {
     "name": "stderr",
     "output_type": "stream",
     "text": [
      " 86%|█████████████████████████████████████████████████████████████████████▋           | 86/100 [00:12<00:01,  7.17it/s]"
     ]
    },
    {
     "name": "stdout",
     "output_type": "stream",
     "text": [
      "Using matplotlib backend: QtAgg\n",
      "Using matplotlib backend: QtAgg\n"
     ]
    },
    {
     "name": "stderr",
     "output_type": "stream",
     "text": [
      " 89%|████████████████████████████████████████████████████████████████████████         | 89/100 [00:12<00:01,  7.15it/s]"
     ]
    },
    {
     "name": "stdout",
     "output_type": "stream",
     "text": [
      "Using matplotlib backend: QtAgg\n",
      "Using matplotlib backend: QtAgg\n"
     ]
    },
    {
     "name": "stderr",
     "output_type": "stream",
     "text": [
      "\r",
      " 90%|████████████████████████████████████████████████████████████████████████▉        | 90/100 [00:13<00:01,  7.18it/s]"
     ]
    },
    {
     "name": "stdout",
     "output_type": "stream",
     "text": [
      "Using matplotlib backend: QtAgg\n",
      "Using matplotlib backend: QtAgg\n"
     ]
    },
    {
     "name": "stderr",
     "output_type": "stream",
     "text": [
      " 92%|██████████████████████████████████████████████████████████████████████████▌      | 92/100 [00:13<00:01,  7.19it/s]"
     ]
    },
    {
     "name": "stdout",
     "output_type": "stream",
     "text": [
      "Using matplotlib backend: QtAgg\n",
      "Using matplotlib backend: QtAgg\n"
     ]
    },
    {
     "name": "stderr",
     "output_type": "stream",
     "text": [
      " 94%|████████████████████████████████████████████████████████████████████████████▏    | 94/100 [00:13<00:00,  7.19it/s]"
     ]
    },
    {
     "name": "stdout",
     "output_type": "stream",
     "text": [
      "Using matplotlib backend: QtAgg\n",
      "Using matplotlib backend: QtAgg\n"
     ]
    },
    {
     "name": "stderr",
     "output_type": "stream",
     "text": [
      " 97%|██████████████████████████████████████████████████████████████████████████████▌  | 97/100 [00:13<00:00,  7.24it/s]"
     ]
    },
    {
     "name": "stdout",
     "output_type": "stream",
     "text": [
      "Using matplotlib backend: QtAgg\n",
      "Using matplotlib backend: QtAgg\n"
     ]
    },
    {
     "name": "stderr",
     "output_type": "stream",
     "text": [
      "\r",
      " 98%|███████████████████████████████████████████████████████████████████████████████▍ | 98/100 [00:14<00:00,  7.23it/s]"
     ]
    },
    {
     "name": "stdout",
     "output_type": "stream",
     "text": [
      "Using matplotlib backend: QtAgg\n",
      "Using matplotlib backend: QtAgg\n"
     ]
    },
    {
     "name": "stderr",
     "output_type": "stream",
     "text": [
      "100%|████████████████████████████████████████████████████████████████████████████████| 100/100 [00:14<00:00,  6.95it/s]"
     ]
    },
    {
     "name": "stdout",
     "output_type": "stream",
     "text": [
      "Using matplotlib backend: QtAgg\n"
     ]
    },
    {
     "name": "stderr",
     "output_type": "stream",
     "text": [
      "\n"
     ]
    }
   ],
   "source": [
    "\"\"\" \n",
    "This cell runs the main program where you will see the plasma simulation\n",
    "\"\"\"\n",
    "if __name__== \"__main__\":\n",
    "  main()\n"
   ]
  }
 ],
 "metadata": {
  "kernelspec": {
   "display_name": "Python 3 (ipykernel)",
   "language": "python",
   "name": "python3"
  },
  "language_info": {
   "codemirror_mode": {
    "name": "ipython",
    "version": 3
   },
   "file_extension": ".py",
   "mimetype": "text/x-python",
   "name": "python",
   "nbconvert_exporter": "python",
   "pygments_lexer": "ipython3",
   "version": "3.11.4"
  }
 },
 "nbformat": 4,
 "nbformat_minor": 5
}
